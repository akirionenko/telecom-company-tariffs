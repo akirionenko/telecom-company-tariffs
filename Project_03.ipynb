{
 "cells": [
  {
   "attachments": {},
   "cell_type": "markdown",
   "metadata": {},
   "source": [
    "# Определение выгодного тарифа для телеком компании"
   ]
  },
  {
   "attachments": {},
   "cell_type": "markdown",
   "metadata": {},
   "source": [
    "## Описание проекта."
   ]
  },
  {
   "attachments": {},
   "cell_type": "markdown",
   "metadata": {},
   "source": [
    "В вашем распоряжении данные 500 пользователей «Мегалайна»: кто они, откуда, каким тарифом пользуются, сколько звонков и сообщений каждый отправил за год.\\\n",
    "Нужно проанализировать поведение клиентов и сделать вывод — какой тариф лучше.\n",
    "\n",
    "Описание тарифов\n",
    "\n",
    "Тариф «Смарт»\\\n",
    "Ежемесячная плата: 550 рублей\\\n",
    "Включено 500 минут разговора, 50 сообщений и 15 Гб интернет-трафика\\\n",
    "Стоимость услуг сверх тарифного пакета:\\\n",
    "Минута разговора — 3 рубля.\\\n",
    "Количество использованных минут и мегабайтов «Мегалайн» всегда округляет вверх.\\\n",
    "Если пользователь проговорил всего 1 секунду, в тарифе засчитывается целая минута.\\\n",
    "Сообщение — 3 рубля. 1 Гб интернет-трафика — 200 рублей.\n",
    "\n",
    "Тариф «Ультра»\\\n",
    "Ежемесячная плата: 1950 рублей\\\n",
    "Включено 3000 минут разговора, 1000 сообщений и 30 Гб интернет-трафика\\\n",
    "Стоимость услуг сверх тарифного пакета:\\\n",
    "Минута разговора — 1 рубль;\\\n",
    "Сообщение — 1 рубль;\\\n",
    "1 Гб интернет-трафика: 150 рублей."
   ]
  },
  {
   "attachments": {},
   "cell_type": "markdown",
   "metadata": {},
   "source": [
    "## Описание данных\n",
    "\n",
    "Таблица users — информация о пользователях:\n",
    "\n",
    "user_id — уникальный идентификатор пользователя\\\n",
    "first_name — имя пользователя\\\n",
    "last_name — фамилия пользователя\\\n",
    "age — возраст пользователя (годы)\\\n",
    "reg_date — дата подключения тарифа (день, месяц, год)\\\n",
    "churn_date — дата прекращения пользования тарифом (если значение пропущено, значит, тариф ещё действовал на момент выгрузки данных)\\\n",
    "city — город проживания пользователя\\\n",
    "tarif — название тарифного плана\n",
    "\n",
    "\n",
    "\n",
    "Таблица calls — информация о звонках:\n",
    "\n",
    "id — уникальный номер звонка\\\n",
    "call_date — дата звонка\\\n",
    "duration — длительность звонка в минутах\\\n",
    "user_id — идентификатор пользователя, сделавшего звонок\n",
    "\n",
    "\n",
    "\n",
    "Таблица messages — информация о сообщениях:\n",
    "\n",
    "id — уникальный номер звонка\\\n",
    "message_date — дата сообщения\\\n",
    "user_id — идентификатор пользователя, отправившего сообщение\n",
    "\n",
    "\n",
    "\n",
    "Таблица internet — информация об интернет-сессиях:\n",
    "\n",
    "id — уникальный номер сессии\\\n",
    "mb_used — объём потраченного за сессию интернет-трафика (в мегабайтах)\\\n",
    "session_date — дата интернет-сессии\\\n",
    "user_id — идентификатор пользователя\n",
    "\n",
    "\n",
    "\n",
    "Таблица tariffs — информация о тарифах:\n",
    "\n",
    "tariff_name — название тарифа\\\n",
    "rub_monthly_fee — ежемесячная абонентская плата в рублях\\\n",
    "minutes_included — количество минут разговора в месяц, включённых в абонентскую плату\\\n",
    "messages_included — количество сообщений в месяц, включённых в абонентскую плату\\\n",
    "mb_per_month_included — объём интернет-трафика, включённого в абонентскую плату (в мегабайтах)\\\n",
    "rub_per_minute — стоимость минуты разговора сверх тарифного пакета (например, если в тарифе 100 минут разговора в месяц, то со 101 минуты будет взиматься плата)\\\n",
    "rub_per_message — стоимость отправки сообщения сверх тарифного пакета\\\n",
    "rub_per_gb — стоимость дополнительного гигабайта интернет-трафика сверх тарифного пакета (1 гигабайт = 1024 мегабайта)\n"
   ]
  },
  {
   "cell_type": "code",
   "execution_count": 2,
   "metadata": {
    "deletable": false
   },
   "outputs": [],
   "source": [
    "import pandas as pd\n",
    "from scipy import stats as st\n",
    "import numpy as np"
   ]
  },
  {
   "attachments": {},
   "cell_type": "markdown",
   "metadata": {
    "deletable": false,
    "editable": false
   },
   "source": [
    "### Откроем файлы с данными и изучим общую информацию"
   ]
  },
  {
   "cell_type": "code",
   "execution_count": 3,
   "metadata": {
    "deletable": false
   },
   "outputs": [],
   "source": [
    "try:\n",
    "   calls = pd.read_csv('/datasets/calls.csv')\n",
    "except:\n",
    "   calls = pd.read_csv('https://code.s3.yandex.net/datasets/calls.csv')"
   ]
  },
  {
   "attachments": {},
   "cell_type": "markdown",
   "metadata": {
    "deletable": false,
    "editable": false,
    "tags": [
     "start_task"
    ]
   },
   "source": [
    "Выведем первые 5 строк датафрейма `calls`."
   ]
  },
  {
   "cell_type": "code",
   "execution_count": 4,
   "metadata": {},
   "outputs": [
    {
     "data": {
      "text/html": [
       "<div>\n",
       "<style scoped>\n",
       "    .dataframe tbody tr th:only-of-type {\n",
       "        vertical-align: middle;\n",
       "    }\n",
       "\n",
       "    .dataframe tbody tr th {\n",
       "        vertical-align: top;\n",
       "    }\n",
       "\n",
       "    .dataframe thead th {\n",
       "        text-align: right;\n",
       "    }\n",
       "</style>\n",
       "<table border=\"1\" class=\"dataframe\">\n",
       "  <thead>\n",
       "    <tr style=\"text-align: right;\">\n",
       "      <th></th>\n",
       "      <th>id</th>\n",
       "      <th>call_date</th>\n",
       "      <th>duration</th>\n",
       "      <th>user_id</th>\n",
       "    </tr>\n",
       "  </thead>\n",
       "  <tbody>\n",
       "    <tr>\n",
       "      <th>0</th>\n",
       "      <td>1000_0</td>\n",
       "      <td>2018-07-25</td>\n",
       "      <td>0.00</td>\n",
       "      <td>1000</td>\n",
       "    </tr>\n",
       "    <tr>\n",
       "      <th>1</th>\n",
       "      <td>1000_1</td>\n",
       "      <td>2018-08-17</td>\n",
       "      <td>0.00</td>\n",
       "      <td>1000</td>\n",
       "    </tr>\n",
       "    <tr>\n",
       "      <th>2</th>\n",
       "      <td>1000_2</td>\n",
       "      <td>2018-06-11</td>\n",
       "      <td>2.85</td>\n",
       "      <td>1000</td>\n",
       "    </tr>\n",
       "    <tr>\n",
       "      <th>3</th>\n",
       "      <td>1000_3</td>\n",
       "      <td>2018-09-21</td>\n",
       "      <td>13.80</td>\n",
       "      <td>1000</td>\n",
       "    </tr>\n",
       "    <tr>\n",
       "      <th>4</th>\n",
       "      <td>1000_4</td>\n",
       "      <td>2018-12-15</td>\n",
       "      <td>5.18</td>\n",
       "      <td>1000</td>\n",
       "    </tr>\n",
       "  </tbody>\n",
       "</table>\n",
       "</div>"
      ],
      "text/plain": [
       "       id   call_date  duration  user_id\n",
       "0  1000_0  2018-07-25      0.00     1000\n",
       "1  1000_1  2018-08-17      0.00     1000\n",
       "2  1000_2  2018-06-11      2.85     1000\n",
       "3  1000_3  2018-09-21     13.80     1000\n",
       "4  1000_4  2018-12-15      5.18     1000"
      ]
     },
     "execution_count": 4,
     "metadata": {},
     "output_type": "execute_result"
    }
   ],
   "source": [
    "calls.head()"
   ]
  },
  {
   "attachments": {},
   "cell_type": "markdown",
   "metadata": {
    "deletable": false,
    "editable": false,
    "tags": [
     "start_task"
    ]
   },
   "source": [
    " Выведем основную информацию для датафрейма `calls` с помощью метода `info()`."
   ]
  },
  {
   "cell_type": "code",
   "execution_count": 5,
   "metadata": {
    "deletable": false
   },
   "outputs": [
    {
     "name": "stdout",
     "output_type": "stream",
     "text": [
      "<class 'pandas.core.frame.DataFrame'>\n",
      "RangeIndex: 202607 entries, 0 to 202606\n",
      "Data columns (total 4 columns):\n",
      " #   Column     Non-Null Count   Dtype  \n",
      "---  ------     --------------   -----  \n",
      " 0   id         202607 non-null  object \n",
      " 1   call_date  202607 non-null  object \n",
      " 2   duration   202607 non-null  float64\n",
      " 3   user_id    202607 non-null  int64  \n",
      "dtypes: float64(1), int64(1), object(2)\n",
      "memory usage: 6.2+ MB\n"
     ]
    }
   ],
   "source": [
    "calls.info()"
   ]
  },
  {
   "attachments": {},
   "cell_type": "markdown",
   "metadata": {
    "deletable": false,
    "editable": false,
    "tags": [
     "start_task"
    ]
   },
   "source": [
    "С помощью метода `hist()` выведем гистограмму для столбца с продолжительностью звонков."
   ]
  },
  {
   "cell_type": "code",
   "execution_count": 6,
   "metadata": {
    "deletable": false
   },
   "outputs": [
    {
     "data": {
      "image/png": "[encoded data removed]",
      "text/plain": [
       "<Figure size 640x480 with 1 Axes>"
      ]
     },
     "metadata": {},
     "output_type": "display_data"
    }
   ],
   "source": [
    "calls['duration'].hist();"
   ]
  },
  {
   "attachments": {},
   "cell_type": "markdown",
   "metadata": {
    "deletable": false,
    "editable": false,
    "tags": [
     "start_task"
    ]
   },
   "source": [
    "Откроем файл `/datasets/internet.csv`, сохраним датафрейм в переменную `sessions`."
   ]
  },
  {
   "cell_type": "code",
   "execution_count": 7,
   "metadata": {
    "deletable": false
   },
   "outputs": [],
   "source": [
    "try:\n",
    "   sessions = pd.read_csv('/datasets/internet.csv')\n",
    "except:\n",
    "   sessions = pd.read_csv('https://code.s3.yandex.net/datasets/internet.csv')"
   ]
  },
  {
   "attachments": {},
   "cell_type": "markdown",
   "metadata": {
    "deletable": false,
    "editable": false,
    "tags": [
     "start_task"
    ]
   },
   "source": [
    "Выведем первые 5 строк датафрейма `sessions`."
   ]
  },
  {
   "cell_type": "code",
   "execution_count": 8,
   "metadata": {
    "deletable": false
   },
   "outputs": [
    {
     "data": {
      "text/html": [
       "<div>\n",
       "<style scoped>\n",
       "    .dataframe tbody tr th:only-of-type {\n",
       "        vertical-align: middle;\n",
       "    }\n",
       "\n",
       "    .dataframe tbody tr th {\n",
       "        vertical-align: top;\n",
       "    }\n",
       "\n",
       "    .dataframe thead th {\n",
       "        text-align: right;\n",
       "    }\n",
       "</style>\n",
       "<table border=\"1\" class=\"dataframe\">\n",
       "  <thead>\n",
       "    <tr style=\"text-align: right;\">\n",
       "      <th></th>\n",
       "      <th>Unnamed: 0</th>\n",
       "      <th>id</th>\n",
       "      <th>mb_used</th>\n",
       "      <th>session_date</th>\n",
       "      <th>user_id</th>\n",
       "    </tr>\n",
       "  </thead>\n",
       "  <tbody>\n",
       "    <tr>\n",
       "      <th>0</th>\n",
       "      <td>0</td>\n",
       "      <td>1000_0</td>\n",
       "      <td>112.95</td>\n",
       "      <td>2018-11-25</td>\n",
       "      <td>1000</td>\n",
       "    </tr>\n",
       "    <tr>\n",
       "      <th>1</th>\n",
       "      <td>1</td>\n",
       "      <td>1000_1</td>\n",
       "      <td>1052.81</td>\n",
       "      <td>2018-09-07</td>\n",
       "      <td>1000</td>\n",
       "    </tr>\n",
       "    <tr>\n",
       "      <th>2</th>\n",
       "      <td>2</td>\n",
       "      <td>1000_2</td>\n",
       "      <td>1197.26</td>\n",
       "      <td>2018-06-25</td>\n",
       "      <td>1000</td>\n",
       "    </tr>\n",
       "    <tr>\n",
       "      <th>3</th>\n",
       "      <td>3</td>\n",
       "      <td>1000_3</td>\n",
       "      <td>550.27</td>\n",
       "      <td>2018-08-22</td>\n",
       "      <td>1000</td>\n",
       "    </tr>\n",
       "    <tr>\n",
       "      <th>4</th>\n",
       "      <td>4</td>\n",
       "      <td>1000_4</td>\n",
       "      <td>302.56</td>\n",
       "      <td>2018-09-24</td>\n",
       "      <td>1000</td>\n",
       "    </tr>\n",
       "  </tbody>\n",
       "</table>\n",
       "</div>"
      ],
      "text/plain": [
       "   Unnamed: 0      id  mb_used session_date  user_id\n",
       "0           0  1000_0   112.95   2018-11-25     1000\n",
       "1           1  1000_1  1052.81   2018-09-07     1000\n",
       "2           2  1000_2  1197.26   2018-06-25     1000\n",
       "3           3  1000_3   550.27   2018-08-22     1000\n",
       "4           4  1000_4   302.56   2018-09-24     1000"
      ]
     },
     "execution_count": 8,
     "metadata": {},
     "output_type": "execute_result"
    }
   ],
   "source": [
    "sessions.head()"
   ]
  },
  {
   "attachments": {},
   "cell_type": "markdown",
   "metadata": {
    "deletable": false,
    "editable": false,
    "tags": [
     "start_task"
    ]
   },
   "source": [
    "Выведем основную информацию для датафрейма sessions с помощью метода `info()`. "
   ]
  },
  {
   "cell_type": "code",
   "execution_count": 9,
   "metadata": {
    "deletable": false
   },
   "outputs": [
    {
     "name": "stdout",
     "output_type": "stream",
     "text": [
      "<class 'pandas.core.frame.DataFrame'>\n",
      "RangeIndex: 149396 entries, 0 to 149395\n",
      "Data columns (total 5 columns):\n",
      " #   Column        Non-Null Count   Dtype  \n",
      "---  ------        --------------   -----  \n",
      " 0   Unnamed: 0    149396 non-null  int64  \n",
      " 1   id            149396 non-null  object \n",
      " 2   mb_used       149396 non-null  float64\n",
      " 3   session_date  149396 non-null  object \n",
      " 4   user_id       149396 non-null  int64  \n",
      "dtypes: float64(1), int64(2), object(2)\n",
      "memory usage: 5.7+ MB\n"
     ]
    }
   ],
   "source": [
    "sessions.info()"
   ]
  },
  {
   "attachments": {},
   "cell_type": "markdown",
   "metadata": {
    "deletable": false,
    "editable": false,
    "tags": [
     "start_task"
    ]
   },
   "source": [
    "С помощью метода `hist()` выведем гистограмму для столбца с количеством потраченных мегабайт."
   ]
  },
  {
   "cell_type": "code",
   "execution_count": 10,
   "metadata": {
    "deletable": false
   },
   "outputs": [
    {
     "data": {
      "image/png": "[encoded data removed]",
      "text/plain": [
       "<Figure size 640x480 with 1 Axes>"
      ]
     },
     "metadata": {},
     "output_type": "display_data"
    }
   ],
   "source": [
    "sessions['mb_used'].hist();"
   ]
  },
  {
   "attachments": {},
   "cell_type": "markdown",
   "metadata": {
    "deletable": false,
    "editable": false,
    "tags": [
     "start_task"
    ]
   },
   "source": [
    "Откройем файл `/datasets/messages.csv`, сохраним датафрейм в переменную `messages`."
   ]
  },
  {
   "cell_type": "code",
   "execution_count": 11,
   "metadata": {
    "deletable": false
   },
   "outputs": [],
   "source": [
    "try:\n",
    "   messages = pd.read_csv('/datasets/messages.csv')\n",
    "except:\n",
    "   messages = pd.read_csv('https://code.s3.yandex.net/datasets/messages.csv')"
   ]
  },
  {
   "attachments": {},
   "cell_type": "markdown",
   "metadata": {
    "deletable": false,
    "editable": false,
    "tags": [
     "start_task"
    ]
   },
   "source": [
    "Выведем первые 5 строк датафрейма `messages`."
   ]
  },
  {
   "cell_type": "code",
   "execution_count": 12,
   "metadata": {
    "deletable": false
   },
   "outputs": [
    {
     "data": {
      "text/html": [
       "<div>\n",
       "<style scoped>\n",
       "    .dataframe tbody tr th:only-of-type {\n",
       "        vertical-align: middle;\n",
       "    }\n",
       "\n",
       "    .dataframe tbody tr th {\n",
       "        vertical-align: top;\n",
       "    }\n",
       "\n",
       "    .dataframe thead th {\n",
       "        text-align: right;\n",
       "    }\n",
       "</style>\n",
       "<table border=\"1\" class=\"dataframe\">\n",
       "  <thead>\n",
       "    <tr style=\"text-align: right;\">\n",
       "      <th></th>\n",
       "      <th>id</th>\n",
       "      <th>message_date</th>\n",
       "      <th>user_id</th>\n",
       "    </tr>\n",
       "  </thead>\n",
       "  <tbody>\n",
       "    <tr>\n",
       "      <th>0</th>\n",
       "      <td>1000_0</td>\n",
       "      <td>2018-06-27</td>\n",
       "      <td>1000</td>\n",
       "    </tr>\n",
       "    <tr>\n",
       "      <th>1</th>\n",
       "      <td>1000_1</td>\n",
       "      <td>2018-10-08</td>\n",
       "      <td>1000</td>\n",
       "    </tr>\n",
       "    <tr>\n",
       "      <th>2</th>\n",
       "      <td>1000_2</td>\n",
       "      <td>2018-08-04</td>\n",
       "      <td>1000</td>\n",
       "    </tr>\n",
       "    <tr>\n",
       "      <th>3</th>\n",
       "      <td>1000_3</td>\n",
       "      <td>2018-06-16</td>\n",
       "      <td>1000</td>\n",
       "    </tr>\n",
       "    <tr>\n",
       "      <th>4</th>\n",
       "      <td>1000_4</td>\n",
       "      <td>2018-12-05</td>\n",
       "      <td>1000</td>\n",
       "    </tr>\n",
       "  </tbody>\n",
       "</table>\n",
       "</div>"
      ],
      "text/plain": [
       "       id message_date  user_id\n",
       "0  1000_0   2018-06-27     1000\n",
       "1  1000_1   2018-10-08     1000\n",
       "2  1000_2   2018-08-04     1000\n",
       "3  1000_3   2018-06-16     1000\n",
       "4  1000_4   2018-12-05     1000"
      ]
     },
     "execution_count": 12,
     "metadata": {},
     "output_type": "execute_result"
    }
   ],
   "source": [
    "messages.head()"
   ]
  },
  {
   "attachments": {},
   "cell_type": "markdown",
   "metadata": {
    "deletable": false,
    "editable": false,
    "tags": [
     "start_task"
    ]
   },
   "source": [
    "Выведем основную информацию для датафрейма `messages` с помощью метода `info()`. "
   ]
  },
  {
   "cell_type": "code",
   "execution_count": 13,
   "metadata": {
    "deletable": false
   },
   "outputs": [
    {
     "name": "stdout",
     "output_type": "stream",
     "text": [
      "<class 'pandas.core.frame.DataFrame'>\n",
      "RangeIndex: 123036 entries, 0 to 123035\n",
      "Data columns (total 3 columns):\n",
      " #   Column        Non-Null Count   Dtype \n",
      "---  ------        --------------   ----- \n",
      " 0   id            123036 non-null  object\n",
      " 1   message_date  123036 non-null  object\n",
      " 2   user_id       123036 non-null  int64 \n",
      "dtypes: int64(1), object(2)\n",
      "memory usage: 2.8+ MB\n"
     ]
    }
   ],
   "source": [
    "messages.info()"
   ]
  },
  {
   "attachments": {},
   "cell_type": "markdown",
   "metadata": {
    "deletable": false,
    "editable": false,
    "tags": [
     "start_task"
    ]
   },
   "source": [
    "Откроем файл `/datasets/tariffs.csv`, сохраните датафрейм в переменную `tariffs`."
   ]
  },
  {
   "cell_type": "code",
   "execution_count": 15,
   "metadata": {
    "deletable": false
   },
   "outputs": [],
   "source": [
    "try:\n",
    "   tariffs = pd.read_csv('/datasets/tariffs.csv')\n",
    "except:\n",
    "   tariffs = pd.read_csv('https://code.s3.yandex.net/datasets/tariffs.csv')"
   ]
  },
  {
   "attachments": {},
   "cell_type": "markdown",
   "metadata": {
    "deletable": false,
    "editable": false,
    "tags": [
     "start_task"
    ]
   },
   "source": [
    "Выведем весь датафрейм `tariffs`."
   ]
  },
  {
   "cell_type": "code",
   "execution_count": 16,
   "metadata": {
    "deletable": false
   },
   "outputs": [
    {
     "data": {
      "text/html": [
       "<div>\n",
       "<style scoped>\n",
       "    .dataframe tbody tr th:only-of-type {\n",
       "        vertical-align: middle;\n",
       "    }\n",
       "\n",
       "    .dataframe tbody tr th {\n",
       "        vertical-align: top;\n",
       "    }\n",
       "\n",
       "    .dataframe thead th {\n",
       "        text-align: right;\n",
       "    }\n",
       "</style>\n",
       "<table border=\"1\" class=\"dataframe\">\n",
       "  <thead>\n",
       "    <tr style=\"text-align: right;\">\n",
       "      <th></th>\n",
       "      <th>messages_included</th>\n",
       "      <th>mb_per_month_included</th>\n",
       "      <th>minutes_included</th>\n",
       "      <th>rub_monthly_fee</th>\n",
       "      <th>rub_per_gb</th>\n",
       "      <th>rub_per_message</th>\n",
       "      <th>rub_per_minute</th>\n",
       "      <th>tariff_name</th>\n",
       "    </tr>\n",
       "  </thead>\n",
       "  <tbody>\n",
       "    <tr>\n",
       "      <th>0</th>\n",
       "      <td>50</td>\n",
       "      <td>15360</td>\n",
       "      <td>500</td>\n",
       "      <td>550</td>\n",
       "      <td>200</td>\n",
       "      <td>3</td>\n",
       "      <td>3</td>\n",
       "      <td>smart</td>\n",
       "    </tr>\n",
       "    <tr>\n",
       "      <th>1</th>\n",
       "      <td>1000</td>\n",
       "      <td>30720</td>\n",
       "      <td>3000</td>\n",
       "      <td>1950</td>\n",
       "      <td>150</td>\n",
       "      <td>1</td>\n",
       "      <td>1</td>\n",
       "      <td>ultra</td>\n",
       "    </tr>\n",
       "  </tbody>\n",
       "</table>\n",
       "</div>"
      ],
      "text/plain": [
       "   messages_included  mb_per_month_included  minutes_included  \\\n",
       "0                 50                  15360               500   \n",
       "1               1000                  30720              3000   \n",
       "\n",
       "   rub_monthly_fee  rub_per_gb  rub_per_message  rub_per_minute tariff_name  \n",
       "0              550         200                3               3       smart  \n",
       "1             1950         150                1               1       ultra  "
      ]
     },
     "execution_count": 16,
     "metadata": {},
     "output_type": "execute_result"
    }
   ],
   "source": [
    "tariffs"
   ]
  },
  {
   "attachments": {},
   "cell_type": "markdown",
   "metadata": {
    "deletable": false,
    "editable": false,
    "tags": [
     "start_task"
    ]
   },
   "source": [
    "Выведем основную информацию для датафрейма `tariffs` с помощью метода `info()`."
   ]
  },
  {
   "cell_type": "code",
   "execution_count": 17,
   "metadata": {
    "deletable": false
   },
   "outputs": [
    {
     "name": "stdout",
     "output_type": "stream",
     "text": [
      "<class 'pandas.core.frame.DataFrame'>\n",
      "RangeIndex: 2 entries, 0 to 1\n",
      "Data columns (total 8 columns):\n",
      " #   Column                 Non-Null Count  Dtype \n",
      "---  ------                 --------------  ----- \n",
      " 0   messages_included      2 non-null      int64 \n",
      " 1   mb_per_month_included  2 non-null      int64 \n",
      " 2   minutes_included       2 non-null      int64 \n",
      " 3   rub_monthly_fee        2 non-null      int64 \n",
      " 4   rub_per_gb             2 non-null      int64 \n",
      " 5   rub_per_message        2 non-null      int64 \n",
      " 6   rub_per_minute         2 non-null      int64 \n",
      " 7   tariff_name            2 non-null      object\n",
      "dtypes: int64(7), object(1)\n",
      "memory usage: 256.0+ bytes\n"
     ]
    }
   ],
   "source": [
    "tariffs.info()"
   ]
  },
  {
   "attachments": {},
   "cell_type": "markdown",
   "metadata": {
    "deletable": false,
    "editable": false,
    "tags": [
     "start_task"
    ]
   },
   "source": [
    "Откроем файл `/datasets/users.csv`, сохраним датафрейм в переменную `users`."
   ]
  },
  {
   "cell_type": "code",
   "execution_count": 18,
   "metadata": {
    "deletable": false
   },
   "outputs": [],
   "source": [
    "try:\n",
    "   users = pd.read_csv('/datasets/users.csv')\n",
    "except:\n",
    "   users = pd.read_csv('https://code.s3.yandex.net/datasets/users.csv')"
   ]
  },
  {
   "attachments": {},
   "cell_type": "markdown",
   "metadata": {
    "deletable": false,
    "editable": false,
    "tags": [
     "start_task"
    ]
   },
   "source": [
    "Выведем первые 5 строк датафрейма `users`."
   ]
  },
  {
   "cell_type": "code",
   "execution_count": 19,
   "metadata": {
    "deletable": false
   },
   "outputs": [
    {
     "data": {
      "text/html": [
       "<div>\n",
       "<style scoped>\n",
       "    .dataframe tbody tr th:only-of-type {\n",
       "        vertical-align: middle;\n",
       "    }\n",
       "\n",
       "    .dataframe tbody tr th {\n",
       "        vertical-align: top;\n",
       "    }\n",
       "\n",
       "    .dataframe thead th {\n",
       "        text-align: right;\n",
       "    }\n",
       "</style>\n",
       "<table border=\"1\" class=\"dataframe\">\n",
       "  <thead>\n",
       "    <tr style=\"text-align: right;\">\n",
       "      <th></th>\n",
       "      <th>user_id</th>\n",
       "      <th>age</th>\n",
       "      <th>churn_date</th>\n",
       "      <th>city</th>\n",
       "      <th>first_name</th>\n",
       "      <th>last_name</th>\n",
       "      <th>reg_date</th>\n",
       "      <th>tariff</th>\n",
       "    </tr>\n",
       "  </thead>\n",
       "  <tbody>\n",
       "    <tr>\n",
       "      <th>0</th>\n",
       "      <td>1000</td>\n",
       "      <td>52</td>\n",
       "      <td>NaN</td>\n",
       "      <td>Краснодар</td>\n",
       "      <td>Рафаил</td>\n",
       "      <td>Верещагин</td>\n",
       "      <td>2018-05-25</td>\n",
       "      <td>ultra</td>\n",
       "    </tr>\n",
       "    <tr>\n",
       "      <th>1</th>\n",
       "      <td>1001</td>\n",
       "      <td>41</td>\n",
       "      <td>NaN</td>\n",
       "      <td>Москва</td>\n",
       "      <td>Иван</td>\n",
       "      <td>Ежов</td>\n",
       "      <td>2018-11-01</td>\n",
       "      <td>smart</td>\n",
       "    </tr>\n",
       "    <tr>\n",
       "      <th>2</th>\n",
       "      <td>1002</td>\n",
       "      <td>59</td>\n",
       "      <td>NaN</td>\n",
       "      <td>Стерлитамак</td>\n",
       "      <td>Евгений</td>\n",
       "      <td>Абрамович</td>\n",
       "      <td>2018-06-17</td>\n",
       "      <td>smart</td>\n",
       "    </tr>\n",
       "    <tr>\n",
       "      <th>3</th>\n",
       "      <td>1003</td>\n",
       "      <td>23</td>\n",
       "      <td>NaN</td>\n",
       "      <td>Москва</td>\n",
       "      <td>Белла</td>\n",
       "      <td>Белякова</td>\n",
       "      <td>2018-08-17</td>\n",
       "      <td>ultra</td>\n",
       "    </tr>\n",
       "    <tr>\n",
       "      <th>4</th>\n",
       "      <td>1004</td>\n",
       "      <td>68</td>\n",
       "      <td>NaN</td>\n",
       "      <td>Новокузнецк</td>\n",
       "      <td>Татьяна</td>\n",
       "      <td>Авдеенко</td>\n",
       "      <td>2018-05-14</td>\n",
       "      <td>ultra</td>\n",
       "    </tr>\n",
       "  </tbody>\n",
       "</table>\n",
       "</div>"
      ],
      "text/plain": [
       "   user_id  age churn_date         city first_name  last_name    reg_date  \\\n",
       "0     1000   52        NaN    Краснодар     Рафаил  Верещагин  2018-05-25   \n",
       "1     1001   41        NaN       Москва       Иван       Ежов  2018-11-01   \n",
       "2     1002   59        NaN  Стерлитамак    Евгений  Абрамович  2018-06-17   \n",
       "3     1003   23        NaN       Москва      Белла   Белякова  2018-08-17   \n",
       "4     1004   68        NaN  Новокузнецк    Татьяна   Авдеенко  2018-05-14   \n",
       "\n",
       "  tariff  \n",
       "0  ultra  \n",
       "1  smart  \n",
       "2  smart  \n",
       "3  ultra  \n",
       "4  ultra  "
      ]
     },
     "execution_count": 19,
     "metadata": {},
     "output_type": "execute_result"
    }
   ],
   "source": [
    "users.head()"
   ]
  },
  {
   "attachments": {},
   "cell_type": "markdown",
   "metadata": {
    "deletable": false,
    "editable": false,
    "tags": [
     "start_task"
    ]
   },
   "source": [
    "Выведем основную информацию для датафрейма `users` с помощью метода `info()`."
   ]
  },
  {
   "cell_type": "code",
   "execution_count": 20,
   "metadata": {
    "deletable": false
   },
   "outputs": [
    {
     "name": "stdout",
     "output_type": "stream",
     "text": [
      "<class 'pandas.core.frame.DataFrame'>\n",
      "RangeIndex: 500 entries, 0 to 499\n",
      "Data columns (total 8 columns):\n",
      " #   Column      Non-Null Count  Dtype \n",
      "---  ------      --------------  ----- \n",
      " 0   user_id     500 non-null    int64 \n",
      " 1   age         500 non-null    int64 \n",
      " 2   churn_date  38 non-null     object\n",
      " 3   city        500 non-null    object\n",
      " 4   first_name  500 non-null    object\n",
      " 5   last_name   500 non-null    object\n",
      " 6   reg_date    500 non-null    object\n",
      " 7   tariff      500 non-null    object\n",
      "dtypes: int64(2), object(6)\n",
      "memory usage: 31.4+ KB\n"
     ]
    }
   ],
   "source": [
    "users.info()"
   ]
  },
  {
   "attachments": {},
   "cell_type": "markdown",
   "metadata": {
    "deletable": false,
    "editable": false
   },
   "source": [
    "## Подготовим данные"
   ]
  },
  {
   "attachments": {},
   "cell_type": "markdown",
   "metadata": {
    "deletable": false,
    "editable": false,
    "tags": [
     "start_task"
    ]
   },
   "source": [
    "Приведем столбцы\n",
    "\n",
    "- `reg_date` из таблицы `users`\n",
    "- `churn_date` из таблицы `users`\n",
    "- `call_date` из таблицы `calls`\n",
    "- `message_date` из таблицы `messages`\n",
    "- `session_date` из таблицы `sessions`\n",
    "\n",
    "к новому типу с помощью метода `to_datetime()`."
   ]
  },
  {
   "cell_type": "code",
   "execution_count": 21,
   "metadata": {
    "deletable": false
   },
   "outputs": [],
   "source": [
    "users['reg_date'] = pd.to_datetime(users['reg_date'], format='%Y-%m-%d %H:%M')# обработка столбца reg_date\n",
    "users['churn_date'] = pd.to_datetime(users['churn_date'], format='%Y-%m-%d %H:%M')# обработка столбца churn_date\n",
    "calls['call_date'] = pd.to_datetime(calls['call_date'], format='%Y-%m-%d %H:%M')# обработка столбца call_date\n",
    "messages['message_date'] = pd.to_datetime(messages['message_date'], format='%Y-%m-%d %H:%M')# обработка столбца message_date\n",
    "sessions['session_date'] = pd.to_datetime(sessions['session_date'], format='%Y-%m-%d %H:%M')# обработка столбца session_date"
   ]
  },
  {
   "attachments": {},
   "cell_type": "markdown",
   "metadata": {
    "deletable": false,
    "editable": false,
    "tags": [
     "start_task"
    ]
   },
   "source": [
    "В данных найдём звонки с нулевой продолжительностью. Это не ошибка: нулями обозначены пропущенные звонки.\n",
    "\n",
    "В столбце `duration` датафрейма `calls` значения дробные. Округлим значения столбца `duration` вверх с помощью метода `numpy.ceil()` и приведем столбец `duration` к типу `int`."
   ]
  },
  {
   "cell_type": "code",
   "execution_count": 22,
   "metadata": {
    "deletable": false
   },
   "outputs": [],
   "source": [
    "import numpy as np\n",
    "# округление значений столбца duration с помощью np.ceil() и приведение типа к int\n",
    "calls['duration'] = np.ceil(calls['duration'])\n",
    "calls['duration'] = calls['duration'].astype(int)"
   ]
  },
  {
   "attachments": {},
   "cell_type": "markdown",
   "metadata": {
    "deletable": false,
    "editable": false,
    "tags": [
     "start_task"
    ]
   },
   "source": [
    "Удалим столбец `Unnamed: 0` из датафрейма `sessions`. Столбец с таким названием возникает, когда данные сохраняют с указанием индекса (`df.to_csv(..., index=column)`)."
   ]
  },
  {
   "cell_type": "code",
   "execution_count": 22,
   "metadata": {
    "deletable": false
   },
   "outputs": [],
   "source": [
    "sessions = sessions.drop(columns=['Unnamed: 0'], axis=1)"
   ]
  },
  {
   "attachments": {},
   "cell_type": "markdown",
   "metadata": {
    "deletable": false,
    "editable": false,
    "tags": [
     "start_task"
    ]
   },
   "source": [
    "Создадим столбец `month` в датафрейме `calls` с номером месяца из столбца `call_date`."
   ]
  },
  {
   "cell_type": "code",
   "execution_count": 23,
   "metadata": {
    "deletable": false
   },
   "outputs": [],
   "source": [
    "calls['month'] = calls['call_date'].dt.month"
   ]
  },
  {
   "attachments": {},
   "cell_type": "markdown",
   "metadata": {
    "deletable": false,
    "editable": false,
    "tags": [
     "start_task"
    ]
   },
   "source": [
    "Создадим столбец `month` в датафрейме `messages` с номером месяца из столбца `message_date`."
   ]
  },
  {
   "cell_type": "code",
   "execution_count": 24,
   "metadata": {
    "deletable": false
   },
   "outputs": [],
   "source": [
    "messages['month'] = messages['message_date'].dt.month"
   ]
  },
  {
   "attachments": {},
   "cell_type": "markdown",
   "metadata": {
    "deletable": false,
    "editable": false,
    "tags": [
     "start_task"
    ]
   },
   "source": [
    "Создадим столбец `month` в датафрейме `sessions` с номером месяца из столбца `session_date`."
   ]
  },
  {
   "cell_type": "code",
   "execution_count": 25,
   "metadata": {
    "deletable": false
   },
   "outputs": [],
   "source": [
    "sessions['month'] = sessions['session_date'].dt.month"
   ]
  },
  {
   "attachments": {},
   "cell_type": "markdown",
   "metadata": {
    "deletable": false,
    "editable": false,
    "tags": [
     "start_task"
    ]
   },
   "source": [
    "Посчитаем количество сделанных звонков разговора для каждого пользователя по месяцам."
   ]
  },
  {
   "cell_type": "code",
   "execution_count": 27,
   "metadata": {
    "deletable": false
   },
   "outputs": [],
   "source": [
    "calls_per_month = calls.groupby(['user_id', 'month']).agg(calls=('duration', 'count')) # подсчёт количества звонков"
   ]
  },
  {
   "cell_type": "code",
   "execution_count": 34,
   "metadata": {
    "deletable": false
   },
   "outputs": [
    {
     "data": {
      "text/html": [
       "<div>\n",
       "<style scoped>\n",
       "    .dataframe tbody tr th:only-of-type {\n",
       "        vertical-align: middle;\n",
       "    }\n",
       "\n",
       "    .dataframe tbody tr th {\n",
       "        vertical-align: top;\n",
       "    }\n",
       "\n",
       "    .dataframe thead th {\n",
       "        text-align: right;\n",
       "    }\n",
       "</style>\n",
       "<table border=\"1\" class=\"dataframe\">\n",
       "  <thead>\n",
       "    <tr style=\"text-align: right;\">\n",
       "      <th></th>\n",
       "      <th></th>\n",
       "      <th>calls</th>\n",
       "    </tr>\n",
       "    <tr>\n",
       "      <th>user_id</th>\n",
       "      <th>month</th>\n",
       "      <th></th>\n",
       "    </tr>\n",
       "  </thead>\n",
       "  <tbody>\n",
       "    <tr>\n",
       "      <th rowspan=\"8\" valign=\"top\">1000</th>\n",
       "      <th>5</th>\n",
       "      <td>22</td>\n",
       "    </tr>\n",
       "    <tr>\n",
       "      <th>6</th>\n",
       "      <td>43</td>\n",
       "    </tr>\n",
       "    <tr>\n",
       "      <th>7</th>\n",
       "      <td>47</td>\n",
       "    </tr>\n",
       "    <tr>\n",
       "      <th>8</th>\n",
       "      <td>52</td>\n",
       "    </tr>\n",
       "    <tr>\n",
       "      <th>9</th>\n",
       "      <td>58</td>\n",
       "    </tr>\n",
       "    <tr>\n",
       "      <th>10</th>\n",
       "      <td>57</td>\n",
       "    </tr>\n",
       "    <tr>\n",
       "      <th>11</th>\n",
       "      <td>43</td>\n",
       "    </tr>\n",
       "    <tr>\n",
       "      <th>12</th>\n",
       "      <td>46</td>\n",
       "    </tr>\n",
       "    <tr>\n",
       "      <th rowspan=\"2\" valign=\"top\">1001</th>\n",
       "      <th>11</th>\n",
       "      <td>59</td>\n",
       "    </tr>\n",
       "    <tr>\n",
       "      <th>12</th>\n",
       "      <td>63</td>\n",
       "    </tr>\n",
       "    <tr>\n",
       "      <th rowspan=\"7\" valign=\"top\">1002</th>\n",
       "      <th>6</th>\n",
       "      <td>15</td>\n",
       "    </tr>\n",
       "    <tr>\n",
       "      <th>7</th>\n",
       "      <td>26</td>\n",
       "    </tr>\n",
       "    <tr>\n",
       "      <th>8</th>\n",
       "      <td>42</td>\n",
       "    </tr>\n",
       "    <tr>\n",
       "      <th>9</th>\n",
       "      <td>36</td>\n",
       "    </tr>\n",
       "    <tr>\n",
       "      <th>10</th>\n",
       "      <td>33</td>\n",
       "    </tr>\n",
       "    <tr>\n",
       "      <th>11</th>\n",
       "      <td>32</td>\n",
       "    </tr>\n",
       "    <tr>\n",
       "      <th>12</th>\n",
       "      <td>33</td>\n",
       "    </tr>\n",
       "    <tr>\n",
       "      <th rowspan=\"5\" valign=\"top\">1003</th>\n",
       "      <th>8</th>\n",
       "      <td>55</td>\n",
       "    </tr>\n",
       "    <tr>\n",
       "      <th>9</th>\n",
       "      <td>134</td>\n",
       "    </tr>\n",
       "    <tr>\n",
       "      <th>10</th>\n",
       "      <td>108</td>\n",
       "    </tr>\n",
       "    <tr>\n",
       "      <th>11</th>\n",
       "      <td>115</td>\n",
       "    </tr>\n",
       "    <tr>\n",
       "      <th>12</th>\n",
       "      <td>108</td>\n",
       "    </tr>\n",
       "    <tr>\n",
       "      <th rowspan=\"8\" valign=\"top\">1004</th>\n",
       "      <th>5</th>\n",
       "      <td>9</td>\n",
       "    </tr>\n",
       "    <tr>\n",
       "      <th>6</th>\n",
       "      <td>31</td>\n",
       "    </tr>\n",
       "    <tr>\n",
       "      <th>7</th>\n",
       "      <td>22</td>\n",
       "    </tr>\n",
       "    <tr>\n",
       "      <th>8</th>\n",
       "      <td>19</td>\n",
       "    </tr>\n",
       "    <tr>\n",
       "      <th>9</th>\n",
       "      <td>26</td>\n",
       "    </tr>\n",
       "    <tr>\n",
       "      <th>10</th>\n",
       "      <td>29</td>\n",
       "    </tr>\n",
       "    <tr>\n",
       "      <th>11</th>\n",
       "      <td>19</td>\n",
       "    </tr>\n",
       "    <tr>\n",
       "      <th>12</th>\n",
       "      <td>21</td>\n",
       "    </tr>\n",
       "  </tbody>\n",
       "</table>\n",
       "</div>"
      ],
      "text/plain": [
       "               calls\n",
       "user_id month       \n",
       "1000    5         22\n",
       "        6         43\n",
       "        7         47\n",
       "        8         52\n",
       "        9         58\n",
       "        10        57\n",
       "        11        43\n",
       "        12        46\n",
       "1001    11        59\n",
       "        12        63\n",
       "1002    6         15\n",
       "        7         26\n",
       "        8         42\n",
       "        9         36\n",
       "        10        33\n",
       "        11        32\n",
       "        12        33\n",
       "1003    8         55\n",
       "        9        134\n",
       "        10       108\n",
       "        11       115\n",
       "        12       108\n",
       "1004    5          9\n",
       "        6         31\n",
       "        7         22\n",
       "        8         19\n",
       "        9         26\n",
       "        10        29\n",
       "        11        19\n",
       "        12        21"
      ]
     },
     "execution_count": 34,
     "metadata": {},
     "output_type": "execute_result"
    }
   ],
   "source": [
    "calls_per_month.head(30) # вывод 30 первых строк на экран"
   ]
  },
  {
   "attachments": {},
   "cell_type": "markdown",
   "metadata": {
    "deletable": false,
    "editable": false,
    "tags": [
     "start_task"
    ]
   },
   "source": [
    "Посчитаем количество израсходованных минут разговора для каждого пользователя по месяцам и сохраним в переменную `minutes_per_month`.\n",
    "Выведем первые 30 строчек `minutes_per_month`."
   ]
  },
  {
   "cell_type": "code",
   "execution_count": 30,
   "metadata": {
    "deletable": false
   },
   "outputs": [],
   "source": [
    "minutes_per_month = calls.groupby(['user_id', 'month']).agg(minutes=('duration', 'sum'))# подсчёт израсходованных минут для каждого пользователя по месяцам"
   ]
  },
  {
   "cell_type": "code",
   "execution_count": 31,
   "metadata": {
    "deletable": false
   },
   "outputs": [
    {
     "data": {
      "text/html": [
       "<div>\n",
       "<style scoped>\n",
       "    .dataframe tbody tr th:only-of-type {\n",
       "        vertical-align: middle;\n",
       "    }\n",
       "\n",
       "    .dataframe tbody tr th {\n",
       "        vertical-align: top;\n",
       "    }\n",
       "\n",
       "    .dataframe thead th {\n",
       "        text-align: right;\n",
       "    }\n",
       "</style>\n",
       "<table border=\"1\" class=\"dataframe\">\n",
       "  <thead>\n",
       "    <tr style=\"text-align: right;\">\n",
       "      <th></th>\n",
       "      <th></th>\n",
       "      <th>minutes</th>\n",
       "    </tr>\n",
       "    <tr>\n",
       "      <th>user_id</th>\n",
       "      <th>month</th>\n",
       "      <th></th>\n",
       "    </tr>\n",
       "  </thead>\n",
       "  <tbody>\n",
       "    <tr>\n",
       "      <th rowspan=\"8\" valign=\"top\">1000</th>\n",
       "      <th>5</th>\n",
       "      <td>150.06</td>\n",
       "    </tr>\n",
       "    <tr>\n",
       "      <th>6</th>\n",
       "      <td>158.90</td>\n",
       "    </tr>\n",
       "    <tr>\n",
       "      <th>7</th>\n",
       "      <td>318.80</td>\n",
       "    </tr>\n",
       "    <tr>\n",
       "      <th>8</th>\n",
       "      <td>389.87</td>\n",
       "    </tr>\n",
       "    <tr>\n",
       "      <th>9</th>\n",
       "      <td>440.14</td>\n",
       "    </tr>\n",
       "    <tr>\n",
       "      <th>10</th>\n",
       "      <td>328.45</td>\n",
       "    </tr>\n",
       "    <tr>\n",
       "      <th>11</th>\n",
       "      <td>319.04</td>\n",
       "    </tr>\n",
       "    <tr>\n",
       "      <th>12</th>\n",
       "      <td>312.98</td>\n",
       "    </tr>\n",
       "    <tr>\n",
       "      <th rowspan=\"2\" valign=\"top\">1001</th>\n",
       "      <th>11</th>\n",
       "      <td>408.12</td>\n",
       "    </tr>\n",
       "    <tr>\n",
       "      <th>12</th>\n",
       "      <td>391.34</td>\n",
       "    </tr>\n",
       "    <tr>\n",
       "      <th rowspan=\"7\" valign=\"top\">1002</th>\n",
       "      <th>6</th>\n",
       "      <td>110.37</td>\n",
       "    </tr>\n",
       "    <tr>\n",
       "      <th>7</th>\n",
       "      <td>204.75</td>\n",
       "    </tr>\n",
       "    <tr>\n",
       "      <th>8</th>\n",
       "      <td>269.71</td>\n",
       "    </tr>\n",
       "    <tr>\n",
       "      <th>9</th>\n",
       "      <td>195.85</td>\n",
       "    </tr>\n",
       "    <tr>\n",
       "      <th>10</th>\n",
       "      <td>199.48</td>\n",
       "    </tr>\n",
       "    <tr>\n",
       "      <th>11</th>\n",
       "      <td>228.03</td>\n",
       "    </tr>\n",
       "    <tr>\n",
       "      <th>12</th>\n",
       "      <td>222.98</td>\n",
       "    </tr>\n",
       "    <tr>\n",
       "      <th rowspan=\"5\" valign=\"top\">1003</th>\n",
       "      <th>8</th>\n",
       "      <td>355.67</td>\n",
       "    </tr>\n",
       "    <tr>\n",
       "      <th>9</th>\n",
       "      <td>904.89</td>\n",
       "    </tr>\n",
       "    <tr>\n",
       "      <th>10</th>\n",
       "      <td>809.07</td>\n",
       "    </tr>\n",
       "    <tr>\n",
       "      <th>11</th>\n",
       "      <td>775.39</td>\n",
       "    </tr>\n",
       "    <tr>\n",
       "      <th>12</th>\n",
       "      <td>755.50</td>\n",
       "    </tr>\n",
       "    <tr>\n",
       "      <th rowspan=\"8\" valign=\"top\">1004</th>\n",
       "      <th>5</th>\n",
       "      <td>32.29</td>\n",
       "    </tr>\n",
       "    <tr>\n",
       "      <th>6</th>\n",
       "      <td>159.14</td>\n",
       "    </tr>\n",
       "    <tr>\n",
       "      <th>7</th>\n",
       "      <td>124.42</td>\n",
       "    </tr>\n",
       "    <tr>\n",
       "      <th>8</th>\n",
       "      <td>128.01</td>\n",
       "    </tr>\n",
       "    <tr>\n",
       "      <th>9</th>\n",
       "      <td>110.57</td>\n",
       "    </tr>\n",
       "    <tr>\n",
       "      <th>10</th>\n",
       "      <td>133.61</td>\n",
       "    </tr>\n",
       "    <tr>\n",
       "      <th>11</th>\n",
       "      <td>109.72</td>\n",
       "    </tr>\n",
       "    <tr>\n",
       "      <th>12</th>\n",
       "      <td>123.45</td>\n",
       "    </tr>\n",
       "  </tbody>\n",
       "</table>\n",
       "</div>"
      ],
      "text/plain": [
       "               minutes\n",
       "user_id month         \n",
       "1000    5       150.06\n",
       "        6       158.90\n",
       "        7       318.80\n",
       "        8       389.87\n",
       "        9       440.14\n",
       "        10      328.45\n",
       "        11      319.04\n",
       "        12      312.98\n",
       "1001    11      408.12\n",
       "        12      391.34\n",
       "1002    6       110.37\n",
       "        7       204.75\n",
       "        8       269.71\n",
       "        9       195.85\n",
       "        10      199.48\n",
       "        11      228.03\n",
       "        12      222.98\n",
       "1003    8       355.67\n",
       "        9       904.89\n",
       "        10      809.07\n",
       "        11      775.39\n",
       "        12      755.50\n",
       "1004    5        32.29\n",
       "        6       159.14\n",
       "        7       124.42\n",
       "        8       128.01\n",
       "        9       110.57\n",
       "        10      133.61\n",
       "        11      109.72\n",
       "        12      123.45"
      ]
     },
     "execution_count": 31,
     "metadata": {},
     "output_type": "execute_result"
    }
   ],
   "source": [
    "minutes_per_month.head(30) # вывод первых 30 строк на экран"
   ]
  },
  {
   "attachments": {},
   "cell_type": "markdown",
   "metadata": {
    "deletable": false,
    "editable": false,
    "tags": [
     "start_task"
    ]
   },
   "source": [
    "Посчитаем количество отправленных сообщений по месяцам для каждого пользователя и сохраним в переменную `messages_per_month`.\n",
    "Выведем первые 30 строчек `messages_per_month`."
   ]
  },
  {
   "cell_type": "code",
   "execution_count": 32,
   "metadata": {
    "deletable": false
   },
   "outputs": [],
   "source": [
    "messages_per_month = messages.groupby(['user_id', 'month']).agg(messages=('message_date', 'count')) # подсчёт количества отправленных сообщений для каждого пользователя по месяцам"
   ]
  },
  {
   "cell_type": "code",
   "execution_count": 33,
   "metadata": {
    "deletable": false
   },
   "outputs": [
    {
     "data": {
      "text/html": [
       "<div>\n",
       "<style scoped>\n",
       "    .dataframe tbody tr th:only-of-type {\n",
       "        vertical-align: middle;\n",
       "    }\n",
       "\n",
       "    .dataframe tbody tr th {\n",
       "        vertical-align: top;\n",
       "    }\n",
       "\n",
       "    .dataframe thead th {\n",
       "        text-align: right;\n",
       "    }\n",
       "</style>\n",
       "<table border=\"1\" class=\"dataframe\">\n",
       "  <thead>\n",
       "    <tr style=\"text-align: right;\">\n",
       "      <th></th>\n",
       "      <th></th>\n",
       "      <th>messages</th>\n",
       "    </tr>\n",
       "    <tr>\n",
       "      <th>user_id</th>\n",
       "      <th>month</th>\n",
       "      <th></th>\n",
       "    </tr>\n",
       "  </thead>\n",
       "  <tbody>\n",
       "    <tr>\n",
       "      <th rowspan=\"8\" valign=\"top\">1000</th>\n",
       "      <th>5</th>\n",
       "      <td>22</td>\n",
       "    </tr>\n",
       "    <tr>\n",
       "      <th>6</th>\n",
       "      <td>60</td>\n",
       "    </tr>\n",
       "    <tr>\n",
       "      <th>7</th>\n",
       "      <td>75</td>\n",
       "    </tr>\n",
       "    <tr>\n",
       "      <th>8</th>\n",
       "      <td>81</td>\n",
       "    </tr>\n",
       "    <tr>\n",
       "      <th>9</th>\n",
       "      <td>57</td>\n",
       "    </tr>\n",
       "    <tr>\n",
       "      <th>10</th>\n",
       "      <td>73</td>\n",
       "    </tr>\n",
       "    <tr>\n",
       "      <th>11</th>\n",
       "      <td>58</td>\n",
       "    </tr>\n",
       "    <tr>\n",
       "      <th>12</th>\n",
       "      <td>70</td>\n",
       "    </tr>\n",
       "    <tr>\n",
       "      <th rowspan=\"7\" valign=\"top\">1002</th>\n",
       "      <th>6</th>\n",
       "      <td>4</td>\n",
       "    </tr>\n",
       "    <tr>\n",
       "      <th>7</th>\n",
       "      <td>11</td>\n",
       "    </tr>\n",
       "    <tr>\n",
       "      <th>8</th>\n",
       "      <td>13</td>\n",
       "    </tr>\n",
       "    <tr>\n",
       "      <th>9</th>\n",
       "      <td>4</td>\n",
       "    </tr>\n",
       "    <tr>\n",
       "      <th>10</th>\n",
       "      <td>10</td>\n",
       "    </tr>\n",
       "    <tr>\n",
       "      <th>11</th>\n",
       "      <td>16</td>\n",
       "    </tr>\n",
       "    <tr>\n",
       "      <th>12</th>\n",
       "      <td>12</td>\n",
       "    </tr>\n",
       "    <tr>\n",
       "      <th rowspan=\"5\" valign=\"top\">1003</th>\n",
       "      <th>8</th>\n",
       "      <td>37</td>\n",
       "    </tr>\n",
       "    <tr>\n",
       "      <th>9</th>\n",
       "      <td>91</td>\n",
       "    </tr>\n",
       "    <tr>\n",
       "      <th>10</th>\n",
       "      <td>83</td>\n",
       "    </tr>\n",
       "    <tr>\n",
       "      <th>11</th>\n",
       "      <td>94</td>\n",
       "    </tr>\n",
       "    <tr>\n",
       "      <th>12</th>\n",
       "      <td>75</td>\n",
       "    </tr>\n",
       "    <tr>\n",
       "      <th rowspan=\"8\" valign=\"top\">1004</th>\n",
       "      <th>5</th>\n",
       "      <td>95</td>\n",
       "    </tr>\n",
       "    <tr>\n",
       "      <th>6</th>\n",
       "      <td>134</td>\n",
       "    </tr>\n",
       "    <tr>\n",
       "      <th>7</th>\n",
       "      <td>181</td>\n",
       "    </tr>\n",
       "    <tr>\n",
       "      <th>8</th>\n",
       "      <td>151</td>\n",
       "    </tr>\n",
       "    <tr>\n",
       "      <th>9</th>\n",
       "      <td>146</td>\n",
       "    </tr>\n",
       "    <tr>\n",
       "      <th>10</th>\n",
       "      <td>165</td>\n",
       "    </tr>\n",
       "    <tr>\n",
       "      <th>11</th>\n",
       "      <td>158</td>\n",
       "    </tr>\n",
       "    <tr>\n",
       "      <th>12</th>\n",
       "      <td>162</td>\n",
       "    </tr>\n",
       "    <tr>\n",
       "      <th rowspan=\"2\" valign=\"top\">1005</th>\n",
       "      <th>1</th>\n",
       "      <td>7</td>\n",
       "    </tr>\n",
       "    <tr>\n",
       "      <th>2</th>\n",
       "      <td>38</td>\n",
       "    </tr>\n",
       "  </tbody>\n",
       "</table>\n",
       "</div>"
      ],
      "text/plain": [
       "               messages\n",
       "user_id month          \n",
       "1000    5            22\n",
       "        6            60\n",
       "        7            75\n",
       "        8            81\n",
       "        9            57\n",
       "        10           73\n",
       "        11           58\n",
       "        12           70\n",
       "1002    6             4\n",
       "        7            11\n",
       "        8            13\n",
       "        9             4\n",
       "        10           10\n",
       "        11           16\n",
       "        12           12\n",
       "1003    8            37\n",
       "        9            91\n",
       "        10           83\n",
       "        11           94\n",
       "        12           75\n",
       "1004    5            95\n",
       "        6           134\n",
       "        7           181\n",
       "        8           151\n",
       "        9           146\n",
       "        10          165\n",
       "        11          158\n",
       "        12          162\n",
       "1005    1             7\n",
       "        2            38"
      ]
     },
     "execution_count": 33,
     "metadata": {},
     "output_type": "execute_result"
    }
   ],
   "source": [
    "messages_per_month.head(30)# вывод первых 30 строк на экран"
   ]
  },
  {
   "attachments": {},
   "cell_type": "markdown",
   "metadata": {
    "deletable": false,
    "editable": false,
    "tags": [
     "start_task"
    ]
   },
   "source": [
    "Посчитаем количество потраченных мегабайт по месяцам для каждого пользователя и сохраним в переменную `sessions_per_month`."
   ]
  },
  {
   "cell_type": "code",
   "execution_count": 35,
   "metadata": {
    "deletable": false
   },
   "outputs": [],
   "source": [
    "sessions_per_month = sessions.groupby(['user_id', 'month']).agg({'mb_used': 'sum'})# подсчёт потраченных мегабайт для каждого пользователя по месяцам"
   ]
  },
  {
   "cell_type": "code",
   "execution_count": 36,
   "metadata": {
    "deletable": false
   },
   "outputs": [
    {
     "data": {
      "text/html": [
       "<div>\n",
       "<style scoped>\n",
       "    .dataframe tbody tr th:only-of-type {\n",
       "        vertical-align: middle;\n",
       "    }\n",
       "\n",
       "    .dataframe tbody tr th {\n",
       "        vertical-align: top;\n",
       "    }\n",
       "\n",
       "    .dataframe thead th {\n",
       "        text-align: right;\n",
       "    }\n",
       "</style>\n",
       "<table border=\"1\" class=\"dataframe\">\n",
       "  <thead>\n",
       "    <tr style=\"text-align: right;\">\n",
       "      <th></th>\n",
       "      <th></th>\n",
       "      <th>mb_used</th>\n",
       "    </tr>\n",
       "    <tr>\n",
       "      <th>user_id</th>\n",
       "      <th>month</th>\n",
       "      <th></th>\n",
       "    </tr>\n",
       "  </thead>\n",
       "  <tbody>\n",
       "    <tr>\n",
       "      <th rowspan=\"8\" valign=\"top\">1000</th>\n",
       "      <th>5</th>\n",
       "      <td>2253.49</td>\n",
       "    </tr>\n",
       "    <tr>\n",
       "      <th>6</th>\n",
       "      <td>23233.77</td>\n",
       "    </tr>\n",
       "    <tr>\n",
       "      <th>7</th>\n",
       "      <td>14003.64</td>\n",
       "    </tr>\n",
       "    <tr>\n",
       "      <th>8</th>\n",
       "      <td>14055.93</td>\n",
       "    </tr>\n",
       "    <tr>\n",
       "      <th>9</th>\n",
       "      <td>14568.91</td>\n",
       "    </tr>\n",
       "    <tr>\n",
       "      <th>10</th>\n",
       "      <td>14702.49</td>\n",
       "    </tr>\n",
       "    <tr>\n",
       "      <th>11</th>\n",
       "      <td>14756.47</td>\n",
       "    </tr>\n",
       "    <tr>\n",
       "      <th>12</th>\n",
       "      <td>9817.61</td>\n",
       "    </tr>\n",
       "    <tr>\n",
       "      <th rowspan=\"2\" valign=\"top\">1001</th>\n",
       "      <th>11</th>\n",
       "      <td>18429.34</td>\n",
       "    </tr>\n",
       "    <tr>\n",
       "      <th>12</th>\n",
       "      <td>14036.66</td>\n",
       "    </tr>\n",
       "    <tr>\n",
       "      <th rowspan=\"7\" valign=\"top\">1002</th>\n",
       "      <th>6</th>\n",
       "      <td>10856.82</td>\n",
       "    </tr>\n",
       "    <tr>\n",
       "      <th>7</th>\n",
       "      <td>17580.10</td>\n",
       "    </tr>\n",
       "    <tr>\n",
       "      <th>8</th>\n",
       "      <td>20319.26</td>\n",
       "    </tr>\n",
       "    <tr>\n",
       "      <th>9</th>\n",
       "      <td>16691.08</td>\n",
       "    </tr>\n",
       "    <tr>\n",
       "      <th>10</th>\n",
       "      <td>13888.25</td>\n",
       "    </tr>\n",
       "    <tr>\n",
       "      <th>11</th>\n",
       "      <td>18587.28</td>\n",
       "    </tr>\n",
       "    <tr>\n",
       "      <th>12</th>\n",
       "      <td>18113.73</td>\n",
       "    </tr>\n",
       "    <tr>\n",
       "      <th rowspan=\"5\" valign=\"top\">1003</th>\n",
       "      <th>8</th>\n",
       "      <td>8565.21</td>\n",
       "    </tr>\n",
       "    <tr>\n",
       "      <th>9</th>\n",
       "      <td>12468.87</td>\n",
       "    </tr>\n",
       "    <tr>\n",
       "      <th>10</th>\n",
       "      <td>14768.14</td>\n",
       "    </tr>\n",
       "    <tr>\n",
       "      <th>11</th>\n",
       "      <td>11356.89</td>\n",
       "    </tr>\n",
       "    <tr>\n",
       "      <th>12</th>\n",
       "      <td>10121.53</td>\n",
       "    </tr>\n",
       "    <tr>\n",
       "      <th rowspan=\"8\" valign=\"top\">1004</th>\n",
       "      <th>5</th>\n",
       "      <td>13403.98</td>\n",
       "    </tr>\n",
       "    <tr>\n",
       "      <th>6</th>\n",
       "      <td>17600.02</td>\n",
       "    </tr>\n",
       "    <tr>\n",
       "      <th>7</th>\n",
       "      <td>22229.58</td>\n",
       "    </tr>\n",
       "    <tr>\n",
       "      <th>8</th>\n",
       "      <td>28584.37</td>\n",
       "    </tr>\n",
       "    <tr>\n",
       "      <th>9</th>\n",
       "      <td>15109.03</td>\n",
       "    </tr>\n",
       "    <tr>\n",
       "      <th>10</th>\n",
       "      <td>18475.44</td>\n",
       "    </tr>\n",
       "    <tr>\n",
       "      <th>11</th>\n",
       "      <td>15616.02</td>\n",
       "    </tr>\n",
       "    <tr>\n",
       "      <th>12</th>\n",
       "      <td>18021.04</td>\n",
       "    </tr>\n",
       "  </tbody>\n",
       "</table>\n",
       "</div>"
      ],
      "text/plain": [
       "                mb_used\n",
       "user_id month          \n",
       "1000    5       2253.49\n",
       "        6      23233.77\n",
       "        7      14003.64\n",
       "        8      14055.93\n",
       "        9      14568.91\n",
       "        10     14702.49\n",
       "        11     14756.47\n",
       "        12      9817.61\n",
       "1001    11     18429.34\n",
       "        12     14036.66\n",
       "1002    6      10856.82\n",
       "        7      17580.10\n",
       "        8      20319.26\n",
       "        9      16691.08\n",
       "        10     13888.25\n",
       "        11     18587.28\n",
       "        12     18113.73\n",
       "1003    8       8565.21\n",
       "        9      12468.87\n",
       "        10     14768.14\n",
       "        11     11356.89\n",
       "        12     10121.53\n",
       "1004    5      13403.98\n",
       "        6      17600.02\n",
       "        7      22229.58\n",
       "        8      28584.37\n",
       "        9      15109.03\n",
       "        10     18475.44\n",
       "        11     15616.02\n",
       "        12     18021.04"
      ]
     },
     "execution_count": 36,
     "metadata": {},
     "output_type": "execute_result"
    }
   ],
   "source": [
    "sessions_per_month.head(30) # вывод первых 30 строк на экран"
   ]
  },
  {
   "cell_type": "markdown",
   "metadata": {
    "deletable": false,
    "editable": false
   },
   "source": [
    "### Анализ данных и подсчёт выручки"
   ]
  },
  {
   "cell_type": "markdown",
   "metadata": {
    "deletable": false,
    "editable": false
   },
   "source": [
    "Объединяем все посчитанные выше значения в один датафрейм `user_behavior`.\n",
    "Для каждой пары \"пользователь - месяц\" будут доступны информация о тарифе, количестве звонков, сообщений и потраченных мегабайтах."
   ]
  },
  {
   "cell_type": "code",
   "execution_count": 37,
   "metadata": {
    "deletable": false
   },
   "outputs": [
    {
     "data": {
      "text/plain": [
       "7.6"
      ]
     },
     "execution_count": 37,
     "metadata": {},
     "output_type": "execute_result"
    }
   ],
   "source": [
    "users['churn_date'].count() / users['churn_date'].shape[0] * 100"
   ]
  },
  {
   "cell_type": "markdown",
   "metadata": {
    "deletable": false,
    "editable": false
   },
   "source": [
    "Расторгли договор 7.6% клиентов из датасета"
   ]
  },
  {
   "cell_type": "code",
   "execution_count": 38,
   "metadata": {
    "deletable": false
   },
   "outputs": [
    {
     "data": {
      "text/html": [
       "<div>\n",
       "<style scoped>\n",
       "    .dataframe tbody tr th:only-of-type {\n",
       "        vertical-align: middle;\n",
       "    }\n",
       "\n",
       "    .dataframe tbody tr th {\n",
       "        vertical-align: top;\n",
       "    }\n",
       "\n",
       "    .dataframe thead th {\n",
       "        text-align: right;\n",
       "    }\n",
       "</style>\n",
       "<table border=\"1\" class=\"dataframe\">\n",
       "  <thead>\n",
       "    <tr style=\"text-align: right;\">\n",
       "      <th></th>\n",
       "      <th>user_id</th>\n",
       "      <th>month</th>\n",
       "      <th>calls</th>\n",
       "      <th>messages</th>\n",
       "      <th>mb_used</th>\n",
       "      <th>minutes</th>\n",
       "      <th>age</th>\n",
       "      <th>churn_date</th>\n",
       "      <th>city</th>\n",
       "      <th>first_name</th>\n",
       "      <th>last_name</th>\n",
       "      <th>reg_date</th>\n",
       "      <th>tariff</th>\n",
       "    </tr>\n",
       "  </thead>\n",
       "  <tbody>\n",
       "    <tr>\n",
       "      <th>0</th>\n",
       "      <td>1000</td>\n",
       "      <td>5</td>\n",
       "      <td>22.0</td>\n",
       "      <td>22.0</td>\n",
       "      <td>2253.49</td>\n",
       "      <td>150.06</td>\n",
       "      <td>52</td>\n",
       "      <td>NaT</td>\n",
       "      <td>Краснодар</td>\n",
       "      <td>Рафаил</td>\n",
       "      <td>Верещагин</td>\n",
       "      <td>2018-05-25</td>\n",
       "      <td>ultra</td>\n",
       "    </tr>\n",
       "    <tr>\n",
       "      <th>1</th>\n",
       "      <td>1000</td>\n",
       "      <td>6</td>\n",
       "      <td>43.0</td>\n",
       "      <td>60.0</td>\n",
       "      <td>23233.77</td>\n",
       "      <td>158.90</td>\n",
       "      <td>52</td>\n",
       "      <td>NaT</td>\n",
       "      <td>Краснодар</td>\n",
       "      <td>Рафаил</td>\n",
       "      <td>Верещагин</td>\n",
       "      <td>2018-05-25</td>\n",
       "      <td>ultra</td>\n",
       "    </tr>\n",
       "    <tr>\n",
       "      <th>2</th>\n",
       "      <td>1000</td>\n",
       "      <td>7</td>\n",
       "      <td>47.0</td>\n",
       "      <td>75.0</td>\n",
       "      <td>14003.64</td>\n",
       "      <td>318.80</td>\n",
       "      <td>52</td>\n",
       "      <td>NaT</td>\n",
       "      <td>Краснодар</td>\n",
       "      <td>Рафаил</td>\n",
       "      <td>Верещагин</td>\n",
       "      <td>2018-05-25</td>\n",
       "      <td>ultra</td>\n",
       "    </tr>\n",
       "    <tr>\n",
       "      <th>3</th>\n",
       "      <td>1000</td>\n",
       "      <td>8</td>\n",
       "      <td>52.0</td>\n",
       "      <td>81.0</td>\n",
       "      <td>14055.93</td>\n",
       "      <td>389.87</td>\n",
       "      <td>52</td>\n",
       "      <td>NaT</td>\n",
       "      <td>Краснодар</td>\n",
       "      <td>Рафаил</td>\n",
       "      <td>Верещагин</td>\n",
       "      <td>2018-05-25</td>\n",
       "      <td>ultra</td>\n",
       "    </tr>\n",
       "    <tr>\n",
       "      <th>4</th>\n",
       "      <td>1000</td>\n",
       "      <td>9</td>\n",
       "      <td>58.0</td>\n",
       "      <td>57.0</td>\n",
       "      <td>14568.91</td>\n",
       "      <td>440.14</td>\n",
       "      <td>52</td>\n",
       "      <td>NaT</td>\n",
       "      <td>Краснодар</td>\n",
       "      <td>Рафаил</td>\n",
       "      <td>Верещагин</td>\n",
       "      <td>2018-05-25</td>\n",
       "      <td>ultra</td>\n",
       "    </tr>\n",
       "  </tbody>\n",
       "</table>\n",
       "</div>"
      ],
      "text/plain": [
       "   user_id  month  calls  messages   mb_used  minutes  age churn_date  \\\n",
       "0     1000      5   22.0      22.0   2253.49   150.06   52        NaT   \n",
       "1     1000      6   43.0      60.0  23233.77   158.90   52        NaT   \n",
       "2     1000      7   47.0      75.0  14003.64   318.80   52        NaT   \n",
       "3     1000      8   52.0      81.0  14055.93   389.87   52        NaT   \n",
       "4     1000      9   58.0      57.0  14568.91   440.14   52        NaT   \n",
       "\n",
       "        city first_name  last_name   reg_date tariff  \n",
       "0  Краснодар     Рафаил  Верещагин 2018-05-25  ultra  \n",
       "1  Краснодар     Рафаил  Верещагин 2018-05-25  ultra  \n",
       "2  Краснодар     Рафаил  Верещагин 2018-05-25  ultra  \n",
       "3  Краснодар     Рафаил  Верещагин 2018-05-25  ultra  \n",
       "4  Краснодар     Рафаил  Верещагин 2018-05-25  ultra  "
      ]
     },
     "execution_count": 38,
     "metadata": {},
     "output_type": "execute_result"
    }
   ],
   "source": [
    "user_behavior = calls_per_month\\\n",
    "    .merge(messages_per_month, left_index=True, right_index=True, how='outer')\\\n",
    "    .merge(sessions_per_month, left_index=True, right_index=True, how='outer')\\\n",
    "    .merge(minutes_per_month, left_index=True, right_index=True, how='outer')\\\n",
    "    .reset_index()\\\n",
    "    .merge(users, how='left', left_on='user_id', right_on='user_id')\\\n",
    "\n",
    "user_behavior.head()"
   ]
  },
  {
   "cell_type": "markdown",
   "metadata": {
    "deletable": false,
    "editable": false
   },
   "source": [
    "Проверим пропуски в таблице `user_behavior` после объединения:"
   ]
  },
  {
   "cell_type": "code",
   "execution_count": 39,
   "metadata": {
    "deletable": false
   },
   "outputs": [
    {
     "data": {
      "text/plain": [
       "user_id          0\n",
       "month            0\n",
       "calls           40\n",
       "messages       497\n",
       "mb_used         11\n",
       "minutes         40\n",
       "age              0\n",
       "churn_date    3027\n",
       "city             0\n",
       "first_name       0\n",
       "last_name        0\n",
       "reg_date         0\n",
       "tariff           0\n",
       "dtype: int64"
      ]
     },
     "execution_count": 39,
     "metadata": {},
     "output_type": "execute_result"
    }
   ],
   "source": [
    "user_behavior.isna().sum()"
   ]
  },
  {
   "cell_type": "markdown",
   "metadata": {
    "deletable": false,
    "editable": false
   },
   "source": [
    "Заполним образовавшиеся пропуски в данных:"
   ]
  },
  {
   "cell_type": "code",
   "execution_count": 40,
   "metadata": {
    "deletable": false
   },
   "outputs": [],
   "source": [
    "user_behavior['calls'] = user_behavior['calls'].fillna(0)\n",
    "user_behavior['minutes'] = user_behavior['minutes'].fillna(0)\n",
    "user_behavior['messages'] = user_behavior['messages'].fillna(0)\n",
    "user_behavior['mb_used'] = user_behavior['mb_used'].fillna(0)"
   ]
  },
  {
   "cell_type": "markdown",
   "metadata": {
    "deletable": false,
    "editable": false
   },
   "source": [
    "Присоединяем информацию о тарифах"
   ]
  },
  {
   "cell_type": "code",
   "execution_count": 41,
   "metadata": {
    "deletable": false
   },
   "outputs": [],
   "source": [
    "# переименование столбца tariff_name на более простое tariff\n",
    "\n",
    "tariffs = tariffs.rename(\n",
    "    columns={\n",
    "        'tariff_name': 'tariff'\n",
    "    }\n",
    ")"
   ]
  },
  {
   "cell_type": "code",
   "execution_count": 42,
   "metadata": {
    "deletable": false
   },
   "outputs": [],
   "source": [
    "user_behavior = user_behavior.merge(tariffs, on='tariff')"
   ]
  },
  {
   "cell_type": "markdown",
   "metadata": {
    "deletable": false,
    "editable": false
   },
   "source": [
    "Считаем количество минут разговора, сообщений и мегабайт, превышающих включенные в тариф\n"
   ]
  },
  {
   "cell_type": "code",
   "execution_count": 43,
   "metadata": {
    "deletable": false
   },
   "outputs": [],
   "source": [
    "user_behavior['paid_minutes'] = user_behavior['minutes'] - user_behavior['minutes_included']\n",
    "user_behavior['paid_messages'] = user_behavior['messages'] - user_behavior['messages_included']\n",
    "user_behavior['paid_mb'] = user_behavior['mb_used'] - user_behavior['mb_per_month_included']\n",
    "\n",
    "for col in ['paid_messages', 'paid_minutes', 'paid_mb']:\n",
    "    user_behavior.loc[user_behavior[col] < 0, col] = 0"
   ]
  },
  {
   "cell_type": "markdown",
   "metadata": {
    "deletable": false,
    "editable": false
   },
   "source": [
    "Переводим превышающие тариф мегабайты в гигабайты и сохраняем в столбец `paid_gb`"
   ]
  },
  {
   "cell_type": "code",
   "execution_count": 44,
   "metadata": {
    "deletable": false
   },
   "outputs": [],
   "source": [
    "user_behavior['paid_gb'] = np.ceil(user_behavior['paid_mb'] / 1024).astype(int)"
   ]
  },
  {
   "cell_type": "markdown",
   "metadata": {
    "deletable": false,
    "editable": false
   },
   "source": [
    "Считаем выручку за минуты разговора, сообщения и интернет"
   ]
  },
  {
   "cell_type": "code",
   "execution_count": 45,
   "metadata": {
    "deletable": false
   },
   "outputs": [],
   "source": [
    "user_behavior['cost_minutes'] = user_behavior['paid_minutes'] * user_behavior['rub_per_minute']\n",
    "user_behavior['cost_messages'] = user_behavior['paid_messages'] * user_behavior['rub_per_message']\n",
    "user_behavior['cost_gb'] = user_behavior['paid_gb'] * user_behavior['rub_per_gb']"
   ]
  },
  {
   "cell_type": "markdown",
   "metadata": {
    "deletable": false,
    "editable": false
   },
   "source": [
    "Считаем помесячную выручку с каждого пользователя, она будет храниться в столбец `total_cost`"
   ]
  },
  {
   "cell_type": "code",
   "execution_count": 46,
   "metadata": {
    "deletable": false
   },
   "outputs": [],
   "source": [
    "user_behavior['total_cost'] = \\\n",
    "      user_behavior['rub_monthly_fee']\\\n",
    "    + user_behavior['cost_minutes']\\\n",
    "    + user_behavior['cost_messages']\\\n",
    "    + user_behavior['cost_gb']"
   ]
  },
  {
   "cell_type": "markdown",
   "metadata": {
    "deletable": false,
    "editable": false
   },
   "source": [
    "Датафрейм `stats_df` для каждой пары \"месяц-тариф\" будет хранить основные характеристики"
   ]
  },
  {
   "cell_type": "code",
   "execution_count": 47,
   "metadata": {
    "deletable": false
   },
   "outputs": [
    {
     "data": {
      "text/html": [
       "<div>\n",
       "<style scoped>\n",
       "    .dataframe tbody tr th:only-of-type {\n",
       "        vertical-align: middle;\n",
       "    }\n",
       "\n",
       "    .dataframe tbody tr th {\n",
       "        vertical-align: top;\n",
       "    }\n",
       "\n",
       "    .dataframe thead th {\n",
       "        text-align: right;\n",
       "    }\n",
       "</style>\n",
       "<table border=\"1\" class=\"dataframe\">\n",
       "  <thead>\n",
       "    <tr style=\"text-align: right;\">\n",
       "      <th></th>\n",
       "      <th>month</th>\n",
       "      <th>tariff</th>\n",
       "      <th>calls_mean</th>\n",
       "      <th>sessions_mean</th>\n",
       "      <th>messages_mean</th>\n",
       "      <th>minutes_mean</th>\n",
       "      <th>calls_std</th>\n",
       "      <th>sessions_std</th>\n",
       "      <th>messages_std</th>\n",
       "      <th>minutes_std</th>\n",
       "      <th>calls_median</th>\n",
       "      <th>sessions_median</th>\n",
       "      <th>messages_median</th>\n",
       "      <th>minutes_median</th>\n",
       "    </tr>\n",
       "  </thead>\n",
       "  <tbody>\n",
       "    <tr>\n",
       "      <th>0</th>\n",
       "      <td>1</td>\n",
       "      <td>smart</td>\n",
       "      <td>27.68</td>\n",
       "      <td>8513.72</td>\n",
       "      <td>18.24</td>\n",
       "      <td>193.04</td>\n",
       "      <td>20.81</td>\n",
       "      <td>6444.68</td>\n",
       "      <td>16.20</td>\n",
       "      <td>146.33</td>\n",
       "      <td>20.5</td>\n",
       "      <td>7096.18</td>\n",
       "      <td>15.0</td>\n",
       "      <td>156.22</td>\n",
       "    </tr>\n",
       "    <tr>\n",
       "      <th>1</th>\n",
       "      <td>1</td>\n",
       "      <td>ultra</td>\n",
       "      <td>59.44</td>\n",
       "      <td>13140.68</td>\n",
       "      <td>33.78</td>\n",
       "      <td>404.78</td>\n",
       "      <td>41.64</td>\n",
       "      <td>6865.35</td>\n",
       "      <td>30.67</td>\n",
       "      <td>254.62</td>\n",
       "      <td>51.0</td>\n",
       "      <td>14791.37</td>\n",
       "      <td>32.0</td>\n",
       "      <td>359.65</td>\n",
       "    </tr>\n",
       "    <tr>\n",
       "      <th>2</th>\n",
       "      <td>2</td>\n",
       "      <td>smart</td>\n",
       "      <td>40.19</td>\n",
       "      <td>11597.05</td>\n",
       "      <td>24.09</td>\n",
       "      <td>282.96</td>\n",
       "      <td>25.39</td>\n",
       "      <td>6247.35</td>\n",
       "      <td>21.75</td>\n",
       "      <td>180.98</td>\n",
       "      <td>38.5</td>\n",
       "      <td>12553.71</td>\n",
       "      <td>20.0</td>\n",
       "      <td>242.90</td>\n",
       "    </tr>\n",
       "    <tr>\n",
       "      <th>3</th>\n",
       "      <td>2</td>\n",
       "      <td>ultra</td>\n",
       "      <td>41.54</td>\n",
       "      <td>11775.94</td>\n",
       "      <td>21.96</td>\n",
       "      <td>280.57</td>\n",
       "      <td>40.97</td>\n",
       "      <td>10644.64</td>\n",
       "      <td>26.77</td>\n",
       "      <td>280.94</td>\n",
       "      <td>25.0</td>\n",
       "      <td>7327.12</td>\n",
       "      <td>5.5</td>\n",
       "      <td>156.55</td>\n",
       "    </tr>\n",
       "    <tr>\n",
       "      <th>4</th>\n",
       "      <td>3</td>\n",
       "      <td>smart</td>\n",
       "      <td>54.32</td>\n",
       "      <td>15104.16</td>\n",
       "      <td>31.86</td>\n",
       "      <td>367.88</td>\n",
       "      <td>25.54</td>\n",
       "      <td>5828.24</td>\n",
       "      <td>26.80</td>\n",
       "      <td>181.54</td>\n",
       "      <td>59.0</td>\n",
       "      <td>15670.25</td>\n",
       "      <td>23.0</td>\n",
       "      <td>386.36</td>\n",
       "    </tr>\n",
       "    <tr>\n",
       "      <th>5</th>\n",
       "      <td>3</td>\n",
       "      <td>ultra</td>\n",
       "      <td>67.68</td>\n",
       "      <td>17535.55</td>\n",
       "      <td>32.30</td>\n",
       "      <td>462.36</td>\n",
       "      <td>44.84</td>\n",
       "      <td>10951.79</td>\n",
       "      <td>41.62</td>\n",
       "      <td>315.68</td>\n",
       "      <td>57.0</td>\n",
       "      <td>17495.18</td>\n",
       "      <td>20.0</td>\n",
       "      <td>380.10</td>\n",
       "    </tr>\n",
       "    <tr>\n",
       "      <th>6</th>\n",
       "      <td>4</td>\n",
       "      <td>smart</td>\n",
       "      <td>51.31</td>\n",
       "      <td>13462.18</td>\n",
       "      <td>30.74</td>\n",
       "      <td>346.22</td>\n",
       "      <td>25.70</td>\n",
       "      <td>5698.25</td>\n",
       "      <td>24.54</td>\n",
       "      <td>176.10</td>\n",
       "      <td>52.0</td>\n",
       "      <td>14087.65</td>\n",
       "      <td>28.0</td>\n",
       "      <td>349.42</td>\n",
       "    </tr>\n",
       "    <tr>\n",
       "      <th>7</th>\n",
       "      <td>4</td>\n",
       "      <td>ultra</td>\n",
       "      <td>64.09</td>\n",
       "      <td>16828.13</td>\n",
       "      <td>31.56</td>\n",
       "      <td>431.89</td>\n",
       "      <td>36.27</td>\n",
       "      <td>9718.65</td>\n",
       "      <td>37.51</td>\n",
       "      <td>253.02</td>\n",
       "      <td>61.0</td>\n",
       "      <td>16645.78</td>\n",
       "      <td>17.0</td>\n",
       "      <td>427.40</td>\n",
       "    </tr>\n",
       "    <tr>\n",
       "      <th>8</th>\n",
       "      <td>5</td>\n",
       "      <td>smart</td>\n",
       "      <td>55.24</td>\n",
       "      <td>15805.18</td>\n",
       "      <td>33.77</td>\n",
       "      <td>365.21</td>\n",
       "      <td>25.38</td>\n",
       "      <td>5978.23</td>\n",
       "      <td>27.04</td>\n",
       "      <td>176.54</td>\n",
       "      <td>59.0</td>\n",
       "      <td>16323.94</td>\n",
       "      <td>30.0</td>\n",
       "      <td>407.42</td>\n",
       "    </tr>\n",
       "    <tr>\n",
       "      <th>9</th>\n",
       "      <td>5</td>\n",
       "      <td>ultra</td>\n",
       "      <td>72.51</td>\n",
       "      <td>19363.15</td>\n",
       "      <td>37.85</td>\n",
       "      <td>481.72</td>\n",
       "      <td>41.08</td>\n",
       "      <td>10046.11</td>\n",
       "      <td>40.31</td>\n",
       "      <td>273.47</td>\n",
       "      <td>75.0</td>\n",
       "      <td>18696.43</td>\n",
       "      <td>25.0</td>\n",
       "      <td>485.23</td>\n",
       "    </tr>\n",
       "  </tbody>\n",
       "</table>\n",
       "</div>"
      ],
      "text/plain": [
       "   month tariff  calls_mean  sessions_mean  messages_mean  minutes_mean  \\\n",
       "0      1  smart       27.68        8513.72          18.24        193.04   \n",
       "1      1  ultra       59.44       13140.68          33.78        404.78   \n",
       "2      2  smart       40.19       11597.05          24.09        282.96   \n",
       "3      2  ultra       41.54       11775.94          21.96        280.57   \n",
       "4      3  smart       54.32       15104.16          31.86        367.88   \n",
       "5      3  ultra       67.68       17535.55          32.30        462.36   \n",
       "6      4  smart       51.31       13462.18          30.74        346.22   \n",
       "7      4  ultra       64.09       16828.13          31.56        431.89   \n",
       "8      5  smart       55.24       15805.18          33.77        365.21   \n",
       "9      5  ultra       72.51       19363.15          37.85        481.72   \n",
       "\n",
       "   calls_std  sessions_std  messages_std  minutes_std  calls_median  \\\n",
       "0      20.81       6444.68         16.20       146.33          20.5   \n",
       "1      41.64       6865.35         30.67       254.62          51.0   \n",
       "2      25.39       6247.35         21.75       180.98          38.5   \n",
       "3      40.97      10644.64         26.77       280.94          25.0   \n",
       "4      25.54       5828.24         26.80       181.54          59.0   \n",
       "5      44.84      10951.79         41.62       315.68          57.0   \n",
       "6      25.70       5698.25         24.54       176.10          52.0   \n",
       "7      36.27       9718.65         37.51       253.02          61.0   \n",
       "8      25.38       5978.23         27.04       176.54          59.0   \n",
       "9      41.08      10046.11         40.31       273.47          75.0   \n",
       "\n",
       "   sessions_median  messages_median  minutes_median  \n",
       "0          7096.18             15.0          156.22  \n",
       "1         14791.37             32.0          359.65  \n",
       "2         12553.71             20.0          242.90  \n",
       "3          7327.12              5.5          156.55  \n",
       "4         15670.25             23.0          386.36  \n",
       "5         17495.18             20.0          380.10  \n",
       "6         14087.65             28.0          349.42  \n",
       "7         16645.78             17.0          427.40  \n",
       "8         16323.94             30.0          407.42  \n",
       "9         18696.43             25.0          485.23  "
      ]
     },
     "execution_count": 47,
     "metadata": {},
     "output_type": "execute_result"
    }
   ],
   "source": [
    "# сохранение статистических метрик для каждой пары месяц-тариф\n",
    "# в одной таблице stats_df (среднее значение, стандартное отклонение, медиана)\n",
    "\n",
    "stats_df = user_behavior.pivot_table(\n",
    "            index=['month', 'tariff'],\\\n",
    "            values=['calls', 'minutes', 'messages', 'mb_used'],\\\n",
    "            aggfunc=['mean', 'std', 'median']\\\n",
    ").round(2).reset_index()\n",
    "\n",
    "stats_df.columns=['month', 'tariff', 'calls_mean', 'sessions_mean', 'messages_mean', 'minutes_mean',\n",
    "                                     'calls_std',  'sessions_std', 'messages_std', 'minutes_std', \n",
    "                                     'calls_median', 'sessions_median', 'messages_median',  'minutes_median']\n",
    "\n",
    "stats_df.head(10)"
   ]
  },
  {
   "cell_type": "markdown",
   "metadata": {
    "deletable": false,
    "editable": false
   },
   "source": [
    "Распределение среднего количества звонков по видам тарифов и месяцам"
   ]
  },
  {
   "cell_type": "code",
   "execution_count": 48,
   "metadata": {
    "deletable": false
   },
   "outputs": [
    {
     "data": {
      "image/png": "[encoded data removed]",
      "text/plain": [
       "<Figure size 640x480 with 1 Axes>"
      ]
     },
     "metadata": {},
     "output_type": "display_data"
    }
   ],
   "source": [
    "import seaborn as sns\n",
    "\n",
    "ax = sns.barplot(x='month',\n",
    "            y='calls_mean',\n",
    "            hue=\"tariff\",\n",
    "            data=stats_df,\n",
    "            palette=['lightblue', 'blue'])\n",
    "\n",
    "ax.set_title('Распределение количества звонков по видам тарифов и месяцам')\n",
    "ax.set(xlabel='Номер месяца', ylabel='Среднее количество звонков');"
   ]
  },
  {
   "cell_type": "code",
   "execution_count": 49,
   "metadata": {
    "deletable": false
   },
   "outputs": [
    {
     "data": {
      "image/png": "[encoded data removed]",
      "text/plain": [
       "<Figure size 640x480 with 1 Axes>"
      ]
     },
     "metadata": {},
     "output_type": "display_data"
    }
   ],
   "source": [
    "import matplotlib.pyplot as plt\n",
    "\n",
    "user_behavior.groupby('tariff')['calls'].plot(kind='hist', bins=35, alpha=0.5)\n",
    "plt.legend(['Smart', 'Ultra'])\n",
    "plt.xlabel('Количество звонков')\n",
    "plt.ylabel('Количество клиентов')\n",
    "plt.show()"
   ]
  },
  {
   "cell_type": "markdown",
   "metadata": {
    "deletable": false,
    "editable": false
   },
   "source": [
    "Распределение средней продолжительности звонков по видам тарифов и месяцам"
   ]
  },
  {
   "cell_type": "code",
   "execution_count": 50,
   "metadata": {
    "deletable": false
   },
   "outputs": [
    {
     "data": {
      "image/png": "[encoded data removed]",
      "text/plain": [
       "<Figure size 640x480 with 1 Axes>"
      ]
     },
     "metadata": {},
     "output_type": "display_data"
    }
   ],
   "source": [
    "ax = sns.barplot(x='month',\n",
    "            y='minutes_mean',\n",
    "            hue=\"tariff\",\n",
    "            data=stats_df,\n",
    "            palette=['lightblue', 'blue'])\n",
    "\n",
    "ax.set_title('Распределение продолжительности звонков по видам тарифов и месяцам')\n",
    "ax.set(xlabel='Номер месяца', ylabel='Средняя продолжительность звонков');"
   ]
  },
  {
   "cell_type": "code",
   "execution_count": 51,
   "metadata": {
    "deletable": false
   },
   "outputs": [
    {
     "data": {
      "image/png": "[encoded data removed]",
      "text/plain": [
       "<Figure size 640x480 with 1 Axes>"
      ]
     },
     "metadata": {},
     "output_type": "display_data"
    }
   ],
   "source": [
    "user_behavior[user_behavior['tariff'] =='smart']['minutes'].hist(bins=35, alpha=0.5, color='green')\n",
    "user_behavior[user_behavior['tariff'] =='ultra']['minutes'].hist(bins=35, alpha=0.5, color='blue');"
   ]
  },
  {
   "cell_type": "markdown",
   "metadata": {
    "deletable": false,
    "editable": false
   },
   "source": [
    "Средняя длительность разговоров у абонентов тарифа Ultra больше, чем у абонентов тарифа Smart. В течение года пользователи обоих тарифов увеличивают среднюю продолжительность своих разговоров. Рост средней длительности разговоров у абонентов тарифа Smart равномерный в течение года. Пользователи тарифа Ultra не проявляют подобной линейной стабильности. Стоит отметить, что феврале у абонентов обоих тарифных планов наблюдались самые низкие показатели."
   ]
  },
  {
   "cell_type": "markdown",
   "metadata": {
    "deletable": false,
    "editable": false
   },
   "source": [
    "Распределение среднего количества сообщений по видам тарифов и месяцам"
   ]
  },
  {
   "cell_type": "code",
   "execution_count": 52,
   "metadata": {
    "deletable": false
   },
   "outputs": [
    {
     "data": {
      "image/png": "[encoded data removed]",
      "text/plain": [
       "<Figure size 640x480 with 1 Axes>"
      ]
     },
     "metadata": {},
     "output_type": "display_data"
    }
   ],
   "source": [
    "ax = sns.barplot(x='month',\n",
    "            y='messages_mean',\n",
    "            hue=\"tariff\",\n",
    "            data=stats_df,\n",
    "            palette=['lightblue', 'blue']\n",
    ")\n",
    "\n",
    "ax.set_title('Распределение количества сообщений по видам тарифов и месяцам')\n",
    "ax.set(xlabel='Номер месяца', ylabel='Среднее количество сообщений');"
   ]
  },
  {
   "cell_type": "code",
   "execution_count": 53,
   "metadata": {
    "deletable": false
   },
   "outputs": [
    {
     "data": {
      "image/png": "[encoded data removed]",
      "text/plain": [
       "<Figure size 640x480 with 1 Axes>"
      ]
     },
     "metadata": {},
     "output_type": "display_data"
    }
   ],
   "source": [
    "user_behavior[user_behavior['tariff'] =='smart']['messages'].hist(bins=35, alpha=0.5, color='green')\n",
    "user_behavior[user_behavior['tariff'] =='ultra']['messages'].hist(bins=35, alpha=0.5, color='blue');"
   ]
  },
  {
   "cell_type": "markdown",
   "metadata": {},
   "source": [
    "В среднем количество сообщений пользователи тарифа Ultra отправляют больше - почти на 20 сообщений больше, чем пользователи тарифа Smart. Количество сообщений в течение года на обоих тарифак растет. Динамика по отправке сообщений схожа с тенденциями по длительности разговоров: в феврале отмечено наименьшее количество сообщений за год и пользователи тарифа Ultra также проявляют нелинейную положительную динамику."
   ]
  },
  {
   "cell_type": "code",
   "execution_count": 54,
   "metadata": {
    "deletable": false
   },
   "outputs": [
    {
     "data": {
      "image/png": "[encoded data removed]",
      "text/plain": [
       "<Figure size 640x480 with 1 Axes>"
      ]
     },
     "metadata": {},
     "output_type": "display_data"
    }
   ],
   "source": [
    "ax = sns.barplot(x='month',\n",
    "            y='sessions_mean',\n",
    "            hue=\"tariff\",\n",
    "            data=stats_df,\n",
    "            palette=['lightblue', 'blue']\n",
    ")\n",
    "\n",
    "ax.set_title('Распределение количества потраченного трафика (Мб) по видам тарифов и месяцам')\n",
    "ax.set(xlabel='Номер месяца', ylabel='Среднее количество мегабайт');"
   ]
  },
  {
   "cell_type": "markdown",
   "metadata": {
    "deletable": false,
    "editable": false
   },
   "source": [
    "Сравнение потраченных мегабайт среди пользователей тарифов Smart и Ultra"
   ]
  },
  {
   "cell_type": "code",
   "execution_count": 55,
   "metadata": {
    "deletable": false
   },
   "outputs": [
    {
     "data": {
      "image/png": "[encoded data removed]",
      "text/plain": [
       "<Figure size 640x480 with 1 Axes>"
      ]
     },
     "metadata": {},
     "output_type": "display_data"
    }
   ],
   "source": [
    "user_behavior[user_behavior['tariff'] =='smart']['mb_used'].hist(bins=35, alpha=0.5, color='green')\n",
    "user_behavior[user_behavior['tariff'] =='ultra']['mb_used'].hist(bins=35, alpha=0.5, color='blue');"
   ]
  },
  {
   "cell_type": "markdown",
   "metadata": {
    "deletable": false,
    "editable": false
   },
   "source": [
    "Меньше всего пользователи использовали интернет в январе, феврале и апреле. Чаще всего абоненты тарифа Smart тратят 15-17 Гб, а абоненты тарифного плана Ultra - 19-21 ГБ."
   ]
  },
  {
   "cell_type": "markdown",
   "metadata": {
    "deletable": false,
    "editable": false
   },
   "source": [
    "### Проверка гипотез"
   ]
  },
  {
   "attachments": {},
   "cell_type": "markdown",
   "metadata": {
    "deletable": false,
    "editable": false,
    "tags": [
     "start_task"
    ]
   },
   "source": [
    "Проверка гипотезы: средняя выручка пользователей тарифов «Ультра» и «Смарт» различаются;\n",
    "\n",
    "```\n",
    "H_0: Выручка (total_cost) пользователей \"Ультра\" = выручка (total_cost) пользователей \"Смарт\"`\n",
    "H_a: Выручка (total_cost) пользователей \"Ультра\" ≠ выручка (total_cost) пользователей \"Смарт\"`\n",
    "alpha = 0.05\n",
    "```"
   ]
  },
  {
   "cell_type": "code",
   "execution_count": 56,
   "metadata": {
    "deletable": false
   },
   "outputs": [],
   "source": [
    "from scipy import stats as st"
   ]
  },
  {
   "cell_type": "code",
   "execution_count": 58,
   "metadata": {
    "deletable": false
   },
   "outputs": [
    {
     "name": "stdout",
     "output_type": "stream",
     "text": [
      "3.023984607909521e-274\n",
      "Отвергаем нулевую гипотезу\n"
     ]
    }
   ],
   "source": [
    "total_cost_smart = user_behavior[user_behavior['tariff'] =='smart']['total_cost']\n",
    "total_cost_ultra = user_behavior[user_behavior['tariff'] =='ultra']['total_cost']\n",
    "# results = вызов метода для проверки гипотезы\n",
    "results = st.ttest_ind(total_cost_smart, total_cost_ultra,equal_var=False)\n",
    "# alpha = задайте значение уровня значимости\n",
    "alpha = .05\n",
    "# вывод значения p-value на экран\n",
    "#print('p-значение:', results.pvalue)\n",
    "# условный оператор с выводом строки с ответом\n",
    "if results.pvalue < alpha:\n",
    "    print(results.pvalue)\n",
    "    print(\"Отвергаем нулевую гипотезу\")\n",
    "else:\n",
    "    print(results.pvalue)\n",
    "    print(\"Не получилось отвергнуть нулевую гипотезу\")"
   ]
  },
  {
   "attachments": {},
   "cell_type": "markdown",
   "metadata": {
    "deletable": false,
    "editable": false,
    "tags": [
     "start_task"
    ]
   },
   "source": [
    "Проверка гипотезы: пользователи из Москвы приносят больше выручки, чем пользователи из других городов;\n",
    "\n",
    "```\n",
    "H_0: Выручка (total_cost) пользователей из Москвы = выручка (total_cost) пользователей не из Москвы`\n",
    "H_1: Выручка (total_cost) пользователей из Москвы ≠ выручка (total_cost) пользователей не из Москвы`\n",
    "alpha = 0.05\n",
    "```"
   ]
  },
  {
   "cell_type": "code",
   "execution_count": 59,
   "metadata": {
    "deletable": false
   },
   "outputs": [
    {
     "name": "stdout",
     "output_type": "stream",
     "text": [
      "p-значение: 0.46411900164961384\n",
      "0.46411900164961384\n",
      "Не получилось отвергнуть нулевую гипотезу\n"
     ]
    }
   ],
   "source": [
    "total_cost_mos = user_behavior[user_behavior['city'] =='Москва']['total_cost']\n",
    "total_cost_reg = user_behavior[user_behavior['city'] !='Москва']['total_cost']\n",
    "# results = вызов метода для проверки гипотезы\n",
    "results = st.ttest_ind(total_cost_mos, total_cost_reg, equal_var=False)\n",
    "# alpha = задайте значение уровня значимости\n",
    "alpha = .05\n",
    "# вывод значения p-value на экран \n",
    "print('p-значение:', results.pvalue)\n",
    "# условный оператор с выводом строки с ответом\n",
    "if results.pvalue < alpha:\n",
    "    print(results.pvalue)\n",
    "    print(\"Отвергаем нулевую гипотезу\")\n",
    "else:\n",
    "    print(results.pvalue)\n",
    "    print(\"Не получилось отвергнуть нулевую гипотезу\")"
   ]
  }
 ],
 "metadata": {
  "ExecuteTimeLog": [
   {
    "duration": 875,
    "start_time": "2022-11-08T13:04:26.863Z"
   },
   {
    "duration": 229,
    "start_time": "2022-11-08T13:06:14.387Z"
   },
   {
    "duration": 15,
    "start_time": "2022-11-08T13:06:49.802Z"
   },
   {
    "duration": 25,
    "start_time": "2022-11-08T13:08:57.705Z"
   },
   {
    "duration": 91,
    "start_time": "2022-11-08T13:10:45.954Z"
   },
   {
    "duration": 610,
    "start_time": "2022-11-08T13:11:07.294Z"
   },
   {
    "duration": 18,
    "start_time": "2022-11-08T13:12:50.370Z"
   },
   {
    "duration": 380,
    "start_time": "2022-11-08T13:12:59.199Z"
   },
   {
    "duration": 10,
    "start_time": "2022-11-08T13:13:02.062Z"
   },
   {
    "duration": 21,
    "start_time": "2022-11-08T13:14:56.900Z"
   },
   {
    "duration": 1156,
    "start_time": "2022-11-08T13:15:48.198Z"
   },
   {
    "duration": 149,
    "start_time": "2022-11-08T13:16:07.253Z"
   },
   {
    "duration": 151,
    "start_time": "2022-11-08T13:17:27.597Z"
   },
   {
    "duration": 8,
    "start_time": "2022-11-08T13:18:06.071Z"
   },
   {
    "duration": 19,
    "start_time": "2022-11-08T13:18:37.384Z"
   },
   {
    "duration": 9,
    "start_time": "2022-11-08T13:19:30.694Z"
   },
   {
    "duration": 51,
    "start_time": "2022-11-08T13:19:38.775Z"
   },
   {
    "duration": 9,
    "start_time": "2022-11-08T13:20:02.341Z"
   },
   {
    "duration": 11,
    "start_time": "2022-11-08T13:20:33.150Z"
   },
   {
    "duration": 67,
    "start_time": "2022-11-08T13:21:40.913Z"
   },
   {
    "duration": 10,
    "start_time": "2022-11-08T13:22:00.177Z"
   },
   {
    "duration": 11,
    "start_time": "2022-11-08T13:22:38.822Z"
   },
   {
    "duration": 81,
    "start_time": "2022-11-08T13:37:11.067Z"
   },
   {
    "duration": 12,
    "start_time": "2022-11-08T13:42:04.748Z"
   },
   {
    "duration": 10,
    "start_time": "2022-11-08T13:42:30.984Z"
   },
   {
    "duration": 45,
    "start_time": "2022-11-08T13:42:34.822Z"
   },
   {
    "duration": 13,
    "start_time": "2022-11-08T13:42:36.846Z"
   },
   {
    "duration": 10,
    "start_time": "2022-11-08T13:42:54.412Z"
   },
   {
    "duration": 10,
    "start_time": "2022-11-08T13:43:08.971Z"
   },
   {
    "duration": 9,
    "start_time": "2022-11-08T13:43:19.868Z"
   },
   {
    "duration": 10,
    "start_time": "2022-11-08T13:44:15.042Z"
   },
   {
    "duration": 10,
    "start_time": "2022-11-08T13:46:32.376Z"
   },
   {
    "duration": 10,
    "start_time": "2022-11-08T13:51:39.872Z"
   },
   {
    "duration": 7,
    "start_time": "2022-11-08T13:52:08.518Z"
   },
   {
    "duration": 63,
    "start_time": "2022-11-08T13:53:01.184Z"
   },
   {
    "duration": 10,
    "start_time": "2022-11-08T13:53:57.858Z"
   },
   {
    "duration": 10,
    "start_time": "2022-11-08T13:54:58.560Z"
   },
   {
    "duration": 10,
    "start_time": "2022-11-08T13:55:08.671Z"
   },
   {
    "duration": 10,
    "start_time": "2022-11-08T13:57:37.177Z"
   },
   {
    "duration": 9,
    "start_time": "2022-11-08T14:00:05.592Z"
   },
   {
    "duration": 11,
    "start_time": "2022-11-08T14:00:31.041Z"
   },
   {
    "duration": 3,
    "start_time": "2022-11-08T14:01:23.254Z"
   },
   {
    "duration": 180,
    "start_time": "2022-11-08T14:01:24.862Z"
   },
   {
    "duration": 9,
    "start_time": "2022-11-08T14:01:25.632Z"
   },
   {
    "duration": 26,
    "start_time": "2022-11-08T14:01:26.937Z"
   },
   {
    "duration": 158,
    "start_time": "2022-11-08T14:01:27.867Z"
   },
   {
    "duration": 137,
    "start_time": "2022-11-08T14:01:28.839Z"
   },
   {
    "duration": 9,
    "start_time": "2022-11-08T14:01:29.827Z"
   },
   {
    "duration": 22,
    "start_time": "2022-11-08T14:01:30.818Z"
   },
   {
    "duration": 156,
    "start_time": "2022-11-08T14:01:31.799Z"
   },
   {
    "duration": 98,
    "start_time": "2022-11-08T14:01:32.908Z"
   },
   {
    "duration": 11,
    "start_time": "2022-11-08T14:01:34.229Z"
   },
   {
    "duration": 19,
    "start_time": "2022-11-08T14:01:35.196Z"
   },
   {
    "duration": 21,
    "start_time": "2022-11-08T14:01:36.149Z"
   },
   {
    "duration": 8,
    "start_time": "2022-11-08T14:01:37.148Z"
   },
   {
    "duration": 11,
    "start_time": "2022-11-08T14:01:38.121Z"
   },
   {
    "duration": 29,
    "start_time": "2022-11-08T14:01:39.080Z"
   },
   {
    "duration": 11,
    "start_time": "2022-11-08T14:01:40.034Z"
   },
   {
    "duration": 11,
    "start_time": "2022-11-08T14:01:40.946Z"
   },
   {
    "duration": 76,
    "start_time": "2022-11-08T14:01:42.480Z"
   },
   {
    "duration": 10,
    "start_time": "2022-11-08T14:01:43.491Z"
   },
   {
    "duration": 9,
    "start_time": "2022-11-08T14:02:13.281Z"
   },
   {
    "duration": 10,
    "start_time": "2022-11-08T14:02:29.196Z"
   },
   {
    "duration": 12,
    "start_time": "2022-11-08T14:04:16.498Z"
   },
   {
    "duration": 11,
    "start_time": "2022-11-08T14:05:22.651Z"
   },
   {
    "duration": 9,
    "start_time": "2022-11-08T14:09:25.509Z"
   },
   {
    "duration": 8,
    "start_time": "2022-11-08T14:09:37.388Z"
   },
   {
    "duration": 9,
    "start_time": "2022-11-08T14:17:43.877Z"
   },
   {
    "duration": 10,
    "start_time": "2022-11-08T14:18:38.664Z"
   },
   {
    "duration": 9,
    "start_time": "2022-11-08T14:18:55.544Z"
   },
   {
    "duration": 3,
    "start_time": "2022-11-08T14:19:03.436Z"
   },
   {
    "duration": 170,
    "start_time": "2022-11-08T14:19:03.441Z"
   },
   {
    "duration": 13,
    "start_time": "2022-11-08T14:19:03.612Z"
   },
   {
    "duration": 29,
    "start_time": "2022-11-08T14:19:03.627Z"
   },
   {
    "duration": 171,
    "start_time": "2022-11-08T14:19:03.658Z"
   },
   {
    "duration": 130,
    "start_time": "2022-11-08T14:19:03.831Z"
   },
   {
    "duration": 9,
    "start_time": "2022-11-08T14:19:03.963Z"
   },
   {
    "duration": 32,
    "start_time": "2022-11-08T14:19:03.973Z"
   },
   {
    "duration": 274,
    "start_time": "2022-11-08T14:19:04.007Z"
   },
   {
    "duration": 93,
    "start_time": "2022-11-08T14:19:04.283Z"
   },
   {
    "duration": 7,
    "start_time": "2022-11-08T14:19:04.378Z"
   },
   {
    "duration": 24,
    "start_time": "2022-11-08T14:19:04.387Z"
   },
   {
    "duration": 12,
    "start_time": "2022-11-08T14:19:04.413Z"
   },
   {
    "duration": 8,
    "start_time": "2022-11-08T14:19:04.428Z"
   },
   {
    "duration": 15,
    "start_time": "2022-11-08T14:19:04.437Z"
   },
   {
    "duration": 34,
    "start_time": "2022-11-08T14:19:04.453Z"
   },
   {
    "duration": 12,
    "start_time": "2022-11-08T14:19:04.489Z"
   },
   {
    "duration": 21,
    "start_time": "2022-11-08T14:19:04.503Z"
   },
   {
    "duration": 87,
    "start_time": "2022-11-08T14:19:04.526Z"
   },
   {
    "duration": 9,
    "start_time": "2022-11-08T14:19:04.615Z"
   },
   {
    "duration": 0,
    "start_time": "2022-11-08T14:19:04.626Z"
   },
   {
    "duration": 0,
    "start_time": "2022-11-08T14:19:04.627Z"
   },
   {
    "duration": 0,
    "start_time": "2022-11-08T14:19:04.628Z"
   },
   {
    "duration": 0,
    "start_time": "2022-11-08T14:19:04.629Z"
   },
   {
    "duration": 0,
    "start_time": "2022-11-08T14:19:04.630Z"
   },
   {
    "duration": 0,
    "start_time": "2022-11-08T14:19:04.631Z"
   },
   {
    "duration": 0,
    "start_time": "2022-11-08T14:19:04.632Z"
   },
   {
    "duration": 0,
    "start_time": "2022-11-08T14:19:04.633Z"
   },
   {
    "duration": 0,
    "start_time": "2022-11-08T14:19:04.634Z"
   },
   {
    "duration": 0,
    "start_time": "2022-11-08T14:19:04.636Z"
   },
   {
    "duration": 0,
    "start_time": "2022-11-08T14:19:04.637Z"
   },
   {
    "duration": 0,
    "start_time": "2022-11-08T14:19:04.638Z"
   },
   {
    "duration": 0,
    "start_time": "2022-11-08T14:19:04.640Z"
   },
   {
    "duration": 0,
    "start_time": "2022-11-08T14:19:04.641Z"
   },
   {
    "duration": 0,
    "start_time": "2022-11-08T14:19:04.643Z"
   },
   {
    "duration": 0,
    "start_time": "2022-11-08T14:19:04.646Z"
   },
   {
    "duration": 0,
    "start_time": "2022-11-08T14:19:04.646Z"
   },
   {
    "duration": 0,
    "start_time": "2022-11-08T14:19:04.648Z"
   },
   {
    "duration": 0,
    "start_time": "2022-11-08T14:19:04.649Z"
   },
   {
    "duration": 0,
    "start_time": "2022-11-08T14:19:04.698Z"
   },
   {
    "duration": 0,
    "start_time": "2022-11-08T14:19:04.699Z"
   },
   {
    "duration": 0,
    "start_time": "2022-11-08T14:19:04.700Z"
   },
   {
    "duration": 0,
    "start_time": "2022-11-08T14:19:04.701Z"
   },
   {
    "duration": 0,
    "start_time": "2022-11-08T14:19:04.702Z"
   },
   {
    "duration": 0,
    "start_time": "2022-11-08T14:19:04.703Z"
   },
   {
    "duration": 0,
    "start_time": "2022-11-08T14:19:04.704Z"
   },
   {
    "duration": 0,
    "start_time": "2022-11-08T14:19:04.705Z"
   },
   {
    "duration": 0,
    "start_time": "2022-11-08T14:19:04.706Z"
   },
   {
    "duration": 0,
    "start_time": "2022-11-08T14:19:04.707Z"
   },
   {
    "duration": 0,
    "start_time": "2022-11-08T14:19:04.708Z"
   },
   {
    "duration": 10,
    "start_time": "2022-11-08T14:22:41.717Z"
   },
   {
    "duration": 10,
    "start_time": "2022-11-08T14:23:06.886Z"
   },
   {
    "duration": 10,
    "start_time": "2022-11-08T14:26:44.022Z"
   },
   {
    "duration": 11,
    "start_time": "2022-11-08T14:33:28.755Z"
   },
   {
    "duration": 9,
    "start_time": "2022-11-08T14:33:47.142Z"
   },
   {
    "duration": 10,
    "start_time": "2022-11-08T14:34:41.576Z"
   },
   {
    "duration": 10,
    "start_time": "2022-11-08T14:34:49.367Z"
   },
   {
    "duration": 4,
    "start_time": "2022-11-08T14:36:40.287Z"
   },
   {
    "duration": 6,
    "start_time": "2022-11-08T14:36:49.389Z"
   },
   {
    "duration": 11,
    "start_time": "2022-11-08T14:43:55.889Z"
   },
   {
    "duration": 23,
    "start_time": "2022-11-08T14:44:35.168Z"
   },
   {
    "duration": 22,
    "start_time": "2022-11-08T14:44:59.063Z"
   },
   {
    "duration": 10,
    "start_time": "2022-11-08T14:45:25.875Z"
   },
   {
    "duration": 12,
    "start_time": "2022-11-08T14:45:33.624Z"
   },
   {
    "duration": 6,
    "start_time": "2022-11-08T14:45:36.759Z"
   },
   {
    "duration": 11,
    "start_time": "2022-11-08T14:45:40.275Z"
   },
   {
    "duration": 17,
    "start_time": "2022-11-08T14:47:55.775Z"
   },
   {
    "duration": 7,
    "start_time": "2022-11-08T14:49:03.628Z"
   },
   {
    "duration": 13,
    "start_time": "2022-11-08T14:49:07.193Z"
   },
   {
    "duration": 13,
    "start_time": "2022-11-08T14:49:12.605Z"
   },
   {
    "duration": 2,
    "start_time": "2022-11-08T14:49:19.347Z"
   },
   {
    "duration": 165,
    "start_time": "2022-11-08T14:49:19.351Z"
   },
   {
    "duration": 10,
    "start_time": "2022-11-08T14:49:19.519Z"
   },
   {
    "duration": 30,
    "start_time": "2022-11-08T14:49:19.531Z"
   },
   {
    "duration": 181,
    "start_time": "2022-11-08T14:49:19.563Z"
   },
   {
    "duration": 134,
    "start_time": "2022-11-08T14:49:19.746Z"
   },
   {
    "duration": 16,
    "start_time": "2022-11-08T14:49:19.881Z"
   },
   {
    "duration": 34,
    "start_time": "2022-11-08T14:49:19.899Z"
   },
   {
    "duration": 185,
    "start_time": "2022-11-08T14:49:19.936Z"
   },
   {
    "duration": 95,
    "start_time": "2022-11-08T14:49:20.123Z"
   },
   {
    "duration": 7,
    "start_time": "2022-11-08T14:49:20.220Z"
   },
   {
    "duration": 42,
    "start_time": "2022-11-08T14:49:20.229Z"
   },
   {
    "duration": 14,
    "start_time": "2022-11-08T14:49:20.273Z"
   },
   {
    "duration": 13,
    "start_time": "2022-11-08T14:49:20.289Z"
   },
   {
    "duration": 28,
    "start_time": "2022-11-08T14:49:20.303Z"
   },
   {
    "duration": 26,
    "start_time": "2022-11-08T14:49:20.333Z"
   },
   {
    "duration": 10,
    "start_time": "2022-11-08T14:49:20.361Z"
   },
   {
    "duration": 21,
    "start_time": "2022-11-08T14:49:20.373Z"
   },
   {
    "duration": 84,
    "start_time": "2022-11-08T14:49:20.396Z"
   },
   {
    "duration": 7,
    "start_time": "2022-11-08T14:49:20.482Z"
   },
   {
    "duration": 17,
    "start_time": "2022-11-08T14:49:20.491Z"
   },
   {
    "duration": 35,
    "start_time": "2022-11-08T14:49:20.510Z"
   },
   {
    "duration": 10,
    "start_time": "2022-11-08T14:49:20.546Z"
   },
   {
    "duration": 10,
    "start_time": "2022-11-08T14:49:20.560Z"
   },
   {
    "duration": 7,
    "start_time": "2022-11-08T14:49:20.572Z"
   },
   {
    "duration": 11,
    "start_time": "2022-11-08T14:49:20.580Z"
   },
   {
    "duration": 7,
    "start_time": "2022-11-08T14:49:20.593Z"
   },
   {
    "duration": 10,
    "start_time": "2022-11-08T14:49:20.601Z"
   },
   {
    "duration": 6,
    "start_time": "2022-11-08T14:49:20.613Z"
   },
   {
    "duration": 6,
    "start_time": "2022-11-08T14:49:20.621Z"
   },
   {
    "duration": 19,
    "start_time": "2022-11-08T14:49:20.629Z"
   },
   {
    "duration": 0,
    "start_time": "2022-11-08T14:49:20.650Z"
   },
   {
    "duration": 0,
    "start_time": "2022-11-08T14:49:20.651Z"
   },
   {
    "duration": 0,
    "start_time": "2022-11-08T14:49:20.653Z"
   },
   {
    "duration": 0,
    "start_time": "2022-11-08T14:49:20.655Z"
   },
   {
    "duration": 0,
    "start_time": "2022-11-08T14:49:20.656Z"
   },
   {
    "duration": 0,
    "start_time": "2022-11-08T14:49:20.657Z"
   },
   {
    "duration": 0,
    "start_time": "2022-11-08T14:49:20.658Z"
   },
   {
    "duration": 0,
    "start_time": "2022-11-08T14:49:20.660Z"
   },
   {
    "duration": 0,
    "start_time": "2022-11-08T14:49:20.661Z"
   },
   {
    "duration": 0,
    "start_time": "2022-11-08T14:49:20.662Z"
   },
   {
    "duration": 0,
    "start_time": "2022-11-08T14:49:20.664Z"
   },
   {
    "duration": 0,
    "start_time": "2022-11-08T14:49:20.665Z"
   },
   {
    "duration": 0,
    "start_time": "2022-11-08T14:49:20.666Z"
   },
   {
    "duration": 0,
    "start_time": "2022-11-08T14:49:20.668Z"
   },
   {
    "duration": 0,
    "start_time": "2022-11-08T14:49:20.669Z"
   },
   {
    "duration": 0,
    "start_time": "2022-11-08T14:49:20.698Z"
   },
   {
    "duration": 0,
    "start_time": "2022-11-08T14:49:20.700Z"
   },
   {
    "duration": 0,
    "start_time": "2022-11-08T14:49:20.701Z"
   },
   {
    "duration": 0,
    "start_time": "2022-11-08T14:49:20.702Z"
   },
   {
    "duration": 0,
    "start_time": "2022-11-08T14:49:20.704Z"
   },
   {
    "duration": 11,
    "start_time": "2022-11-08T14:52:58.818Z"
   },
   {
    "duration": 10,
    "start_time": "2022-11-08T14:53:30.684Z"
   },
   {
    "duration": 9,
    "start_time": "2022-11-08T14:53:37.916Z"
   },
   {
    "duration": 13,
    "start_time": "2022-11-08T14:54:57.394Z"
   },
   {
    "duration": 7,
    "start_time": "2022-11-08T14:55:02.764Z"
   },
   {
    "duration": 13,
    "start_time": "2022-11-08T14:55:04.709Z"
   },
   {
    "duration": 19,
    "start_time": "2022-11-08T14:55:18.395Z"
   },
   {
    "duration": 42,
    "start_time": "2022-11-08T14:55:23.762Z"
   },
   {
    "duration": 8,
    "start_time": "2022-11-08T14:55:25.635Z"
   },
   {
    "duration": 12,
    "start_time": "2022-11-08T14:55:27.095Z"
   },
   {
    "duration": 2,
    "start_time": "2022-11-08T14:55:51.409Z"
   },
   {
    "duration": 166,
    "start_time": "2022-11-08T14:55:51.413Z"
   },
   {
    "duration": 9,
    "start_time": "2022-11-08T14:55:51.581Z"
   },
   {
    "duration": 24,
    "start_time": "2022-11-08T14:55:51.598Z"
   },
   {
    "duration": 176,
    "start_time": "2022-11-08T14:55:51.624Z"
   },
   {
    "duration": 122,
    "start_time": "2022-11-08T14:55:51.802Z"
   },
   {
    "duration": 9,
    "start_time": "2022-11-08T14:55:51.926Z"
   },
   {
    "duration": 24,
    "start_time": "2022-11-08T14:55:51.937Z"
   },
   {
    "duration": 173,
    "start_time": "2022-11-08T14:55:51.964Z"
   },
   {
    "duration": 93,
    "start_time": "2022-11-08T14:55:52.139Z"
   },
   {
    "duration": 9,
    "start_time": "2022-11-08T14:55:52.233Z"
   },
   {
    "duration": 22,
    "start_time": "2022-11-08T14:55:52.243Z"
   },
   {
    "duration": 13,
    "start_time": "2022-11-08T14:55:52.267Z"
   },
   {
    "duration": 20,
    "start_time": "2022-11-08T14:55:52.282Z"
   },
   {
    "duration": 14,
    "start_time": "2022-11-08T14:55:52.304Z"
   },
   {
    "duration": 24,
    "start_time": "2022-11-08T14:55:52.320Z"
   },
   {
    "duration": 11,
    "start_time": "2022-11-08T14:55:52.347Z"
   },
   {
    "duration": 15,
    "start_time": "2022-11-08T14:55:52.360Z"
   },
   {
    "duration": 81,
    "start_time": "2022-11-08T14:55:52.377Z"
   },
   {
    "duration": 8,
    "start_time": "2022-11-08T14:55:52.459Z"
   },
   {
    "duration": 19,
    "start_time": "2022-11-08T14:55:52.469Z"
   },
   {
    "duration": 18,
    "start_time": "2022-11-08T14:55:52.497Z"
   },
   {
    "duration": 0,
    "start_time": "2022-11-08T14:55:52.519Z"
   },
   {
    "duration": 0,
    "start_time": "2022-11-08T14:55:52.520Z"
   },
   {
    "duration": 0,
    "start_time": "2022-11-08T14:55:52.521Z"
   },
   {
    "duration": 0,
    "start_time": "2022-11-08T14:55:52.523Z"
   },
   {
    "duration": 0,
    "start_time": "2022-11-08T14:55:52.532Z"
   },
   {
    "duration": 0,
    "start_time": "2022-11-08T14:55:52.534Z"
   },
   {
    "duration": 0,
    "start_time": "2022-11-08T14:55:52.535Z"
   },
   {
    "duration": 0,
    "start_time": "2022-11-08T14:55:52.537Z"
   },
   {
    "duration": 0,
    "start_time": "2022-11-08T14:55:52.538Z"
   },
   {
    "duration": 0,
    "start_time": "2022-11-08T14:55:52.540Z"
   },
   {
    "duration": 0,
    "start_time": "2022-11-08T14:55:52.541Z"
   },
   {
    "duration": 0,
    "start_time": "2022-11-08T14:55:52.543Z"
   },
   {
    "duration": 0,
    "start_time": "2022-11-08T14:55:52.545Z"
   },
   {
    "duration": 0,
    "start_time": "2022-11-08T14:55:52.547Z"
   },
   {
    "duration": 0,
    "start_time": "2022-11-08T14:55:52.548Z"
   },
   {
    "duration": 0,
    "start_time": "2022-11-08T14:55:52.550Z"
   },
   {
    "duration": 0,
    "start_time": "2022-11-08T14:55:52.551Z"
   },
   {
    "duration": 0,
    "start_time": "2022-11-08T14:55:52.552Z"
   },
   {
    "duration": 0,
    "start_time": "2022-11-08T14:55:52.553Z"
   },
   {
    "duration": 0,
    "start_time": "2022-11-08T14:55:52.554Z"
   },
   {
    "duration": 1,
    "start_time": "2022-11-08T14:55:52.555Z"
   },
   {
    "duration": 0,
    "start_time": "2022-11-08T14:55:52.557Z"
   },
   {
    "duration": 0,
    "start_time": "2022-11-08T14:55:52.558Z"
   },
   {
    "duration": 0,
    "start_time": "2022-11-08T14:55:52.598Z"
   },
   {
    "duration": 0,
    "start_time": "2022-11-08T14:55:52.599Z"
   },
   {
    "duration": 0,
    "start_time": "2022-11-08T14:55:52.600Z"
   },
   {
    "duration": 0,
    "start_time": "2022-11-08T14:55:52.601Z"
   },
   {
    "duration": 0,
    "start_time": "2022-11-08T14:55:52.602Z"
   },
   {
    "duration": 0,
    "start_time": "2022-11-08T14:55:52.603Z"
   },
   {
    "duration": 0,
    "start_time": "2022-11-08T14:55:52.604Z"
   },
   {
    "duration": 22,
    "start_time": "2022-11-08T14:57:22.951Z"
   },
   {
    "duration": 26,
    "start_time": "2022-11-08T15:01:50.848Z"
   },
   {
    "duration": 24,
    "start_time": "2022-11-08T15:02:01.570Z"
   },
   {
    "duration": 16,
    "start_time": "2022-11-08T15:03:00.933Z"
   },
   {
    "duration": 30,
    "start_time": "2022-11-08T15:03:52.728Z"
   },
   {
    "duration": 23,
    "start_time": "2022-11-08T15:04:00.800Z"
   },
   {
    "duration": 16,
    "start_time": "2022-11-08T15:04:15.576Z"
   },
   {
    "duration": 23,
    "start_time": "2022-11-08T15:04:17.228Z"
   },
   {
    "duration": 19,
    "start_time": "2022-11-08T15:04:32.677Z"
   },
   {
    "duration": 21,
    "start_time": "2022-11-08T15:13:24.147Z"
   },
   {
    "duration": 76,
    "start_time": "2022-11-08T15:14:20.246Z"
   },
   {
    "duration": 12,
    "start_time": "2022-11-08T15:14:54.184Z"
   },
   {
    "duration": 12,
    "start_time": "2022-11-08T15:15:18.653Z"
   },
   {
    "duration": 19,
    "start_time": "2022-11-08T15:15:29.970Z"
   },
   {
    "duration": 15,
    "start_time": "2022-11-08T15:15:31.264Z"
   },
   {
    "duration": 10,
    "start_time": "2022-11-08T15:16:25.102Z"
   },
   {
    "duration": 19,
    "start_time": "2022-11-08T15:17:00.787Z"
   },
   {
    "duration": 11,
    "start_time": "2022-11-08T15:17:02.869Z"
   },
   {
    "duration": 17,
    "start_time": "2022-11-08T15:19:52.959Z"
   },
   {
    "duration": 10,
    "start_time": "2022-11-08T15:20:13.168Z"
   },
   {
    "duration": 16,
    "start_time": "2022-11-08T15:20:35.368Z"
   },
   {
    "duration": 11,
    "start_time": "2022-11-08T15:20:36.188Z"
   },
   {
    "duration": 18,
    "start_time": "2022-11-08T15:20:40.359Z"
   },
   {
    "duration": 18,
    "start_time": "2022-11-08T15:20:41.791Z"
   },
   {
    "duration": 10,
    "start_time": "2022-11-08T15:20:42.478Z"
   },
   {
    "duration": 11,
    "start_time": "2022-11-08T15:24:17.480Z"
   },
   {
    "duration": 16,
    "start_time": "2022-11-08T15:33:01.042Z"
   },
   {
    "duration": 25,
    "start_time": "2022-11-08T15:33:29.547Z"
   },
   {
    "duration": 9,
    "start_time": "2022-11-08T15:33:39.200Z"
   },
   {
    "duration": 25,
    "start_time": "2022-11-08T15:38:58.101Z"
   },
   {
    "duration": 7,
    "start_time": "2022-11-08T15:38:59.115Z"
   },
   {
    "duration": 9,
    "start_time": "2022-11-08T15:39:25.589Z"
   },
   {
    "duration": 14,
    "start_time": "2022-11-08T15:45:58.951Z"
   },
   {
    "duration": 17,
    "start_time": "2022-11-08T15:47:42.091Z"
   },
   {
    "duration": 9,
    "start_time": "2022-11-08T15:47:43.501Z"
   },
   {
    "duration": 16,
    "start_time": "2022-11-08T15:49:13.273Z"
   },
   {
    "duration": 9,
    "start_time": "2022-11-08T15:49:13.871Z"
   },
   {
    "duration": 5,
    "start_time": "2022-11-08T15:51:07.869Z"
   },
   {
    "duration": 110,
    "start_time": "2022-11-08T15:51:20.066Z"
   },
   {
    "duration": 8,
    "start_time": "2022-11-08T15:51:38.649Z"
   },
   {
    "duration": 5,
    "start_time": "2022-11-08T15:51:51.899Z"
   },
   {
    "duration": 4,
    "start_time": "2022-11-08T15:52:09.048Z"
   },
   {
    "duration": 11,
    "start_time": "2022-11-08T15:52:17.812Z"
   },
   {
    "duration": 12,
    "start_time": "2022-11-08T15:52:31.088Z"
   },
   {
    "duration": 5,
    "start_time": "2022-11-08T15:52:37.447Z"
   },
   {
    "duration": 7,
    "start_time": "2022-11-08T15:52:43.835Z"
   },
   {
    "duration": 6,
    "start_time": "2022-11-08T15:52:50.499Z"
   },
   {
    "duration": 58,
    "start_time": "2022-11-08T15:52:59.872Z"
   },
   {
    "duration": 384,
    "start_time": "2022-11-08T15:53:09.011Z"
   },
   {
    "duration": 311,
    "start_time": "2022-11-08T15:53:19.008Z"
   },
   {
    "duration": 322,
    "start_time": "2022-11-08T15:53:29.677Z"
   },
   {
    "duration": 236,
    "start_time": "2022-11-08T15:53:35.267Z"
   },
   {
    "duration": 274,
    "start_time": "2022-11-08T15:53:44.685Z"
   },
   {
    "duration": 319,
    "start_time": "2022-11-08T15:53:49.128Z"
   },
   {
    "duration": 317,
    "start_time": "2022-11-08T15:53:56.811Z"
   },
   {
    "duration": 218,
    "start_time": "2022-11-08T15:54:03.110Z"
   },
   {
    "duration": 10,
    "start_time": "2022-11-08T18:12:33.814Z"
   },
   {
    "duration": 10,
    "start_time": "2022-11-08T18:13:57.415Z"
   },
   {
    "duration": 9,
    "start_time": "2022-11-08T18:28:17.452Z"
   },
   {
    "duration": 48,
    "start_time": "2022-11-09T07:03:43.723Z"
   },
   {
    "duration": 7,
    "start_time": "2022-11-09T07:04:17.819Z"
   },
   {
    "duration": 826,
    "start_time": "2022-11-09T07:04:35.801Z"
   },
   {
    "duration": 574,
    "start_time": "2022-11-09T07:04:36.629Z"
   },
   {
    "duration": 14,
    "start_time": "2022-11-09T07:04:37.206Z"
   },
   {
    "duration": 35,
    "start_time": "2022-11-09T07:04:37.222Z"
   },
   {
    "duration": 582,
    "start_time": "2022-11-09T07:04:37.258Z"
   },
   {
    "duration": 356,
    "start_time": "2022-11-09T07:04:37.841Z"
   },
   {
    "duration": 10,
    "start_time": "2022-11-09T07:04:38.199Z"
   },
   {
    "duration": 45,
    "start_time": "2022-11-09T07:04:38.210Z"
   },
   {
    "duration": 159,
    "start_time": "2022-11-09T07:04:38.256Z"
   },
   {
    "duration": 326,
    "start_time": "2022-11-09T07:04:38.417Z"
   },
   {
    "duration": 7,
    "start_time": "2022-11-09T07:04:38.745Z"
   },
   {
    "duration": 23,
    "start_time": "2022-11-09T07:04:38.754Z"
   },
   {
    "duration": 80,
    "start_time": "2022-11-09T07:04:38.779Z"
   },
   {
    "duration": 8,
    "start_time": "2022-11-09T07:04:38.861Z"
   },
   {
    "duration": 14,
    "start_time": "2022-11-09T07:04:38.870Z"
   },
   {
    "duration": 88,
    "start_time": "2022-11-09T07:04:38.885Z"
   },
   {
    "duration": 17,
    "start_time": "2022-11-09T07:04:38.975Z"
   },
   {
    "duration": 13,
    "start_time": "2022-11-09T07:04:38.993Z"
   },
   {
    "duration": 82,
    "start_time": "2022-11-09T07:04:39.007Z"
   },
   {
    "duration": 9,
    "start_time": "2022-11-09T07:04:39.090Z"
   },
   {
    "duration": 9,
    "start_time": "2022-11-09T07:04:39.101Z"
   },
   {
    "duration": 29,
    "start_time": "2022-11-09T07:04:39.111Z"
   },
   {
    "duration": 14,
    "start_time": "2022-11-09T07:04:39.142Z"
   },
   {
    "duration": 37,
    "start_time": "2022-11-09T07:04:39.157Z"
   },
   {
    "duration": 24,
    "start_time": "2022-11-09T07:04:39.196Z"
   },
   {
    "duration": 7,
    "start_time": "2022-11-09T07:04:39.222Z"
   },
   {
    "duration": 30,
    "start_time": "2022-11-09T07:04:39.231Z"
   },
   {
    "duration": 24,
    "start_time": "2022-11-09T07:04:39.264Z"
   },
   {
    "duration": 24,
    "start_time": "2022-11-09T07:04:39.289Z"
   },
   {
    "duration": 8,
    "start_time": "2022-11-09T07:04:39.314Z"
   },
   {
    "duration": 19,
    "start_time": "2022-11-09T07:04:39.323Z"
   },
   {
    "duration": 10,
    "start_time": "2022-11-09T07:04:39.343Z"
   },
   {
    "duration": 8,
    "start_time": "2022-11-09T07:04:39.354Z"
   },
   {
    "duration": 26,
    "start_time": "2022-11-09T07:04:39.364Z"
   },
   {
    "duration": 44,
    "start_time": "2022-11-09T07:04:39.391Z"
   },
   {
    "duration": 8,
    "start_time": "2022-11-09T07:04:39.437Z"
   },
   {
    "duration": 10,
    "start_time": "2022-11-09T07:04:39.447Z"
   },
   {
    "duration": 5,
    "start_time": "2022-11-09T07:04:39.459Z"
   },
   {
    "duration": 15,
    "start_time": "2022-11-09T07:04:39.465Z"
   },
   {
    "duration": 22,
    "start_time": "2022-11-09T07:04:39.486Z"
   },
   {
    "duration": 3,
    "start_time": "2022-11-09T07:04:39.510Z"
   },
   {
    "duration": 8,
    "start_time": "2022-11-09T07:04:39.515Z"
   },
   {
    "duration": 7,
    "start_time": "2022-11-09T07:04:39.524Z"
   },
   {
    "duration": 60,
    "start_time": "2022-11-09T07:04:39.533Z"
   },
   {
    "duration": 381,
    "start_time": "2022-11-09T07:04:39.594Z"
   },
   {
    "duration": 263,
    "start_time": "2022-11-09T07:04:39.981Z"
   },
   {
    "duration": 385,
    "start_time": "2022-11-09T07:04:40.246Z"
   },
   {
    "duration": 225,
    "start_time": "2022-11-09T07:04:40.633Z"
   },
   {
    "duration": 256,
    "start_time": "2022-11-09T07:04:40.861Z"
   },
   {
    "duration": 209,
    "start_time": "2022-11-09T07:04:41.118Z"
   },
   {
    "duration": 303,
    "start_time": "2022-11-09T07:04:41.328Z"
   },
   {
    "duration": 220,
    "start_time": "2022-11-09T07:04:41.632Z"
   },
   {
    "duration": 3,
    "start_time": "2022-11-09T07:04:41.854Z"
   },
   {
    "duration": 16,
    "start_time": "2022-11-09T07:04:41.858Z"
   },
   {
    "duration": 13,
    "start_time": "2022-11-09T07:04:41.879Z"
   },
   {
    "duration": 9,
    "start_time": "2022-11-09T07:08:59.014Z"
   },
   {
    "duration": 69,
    "start_time": "2022-11-09T07:09:38.355Z"
   },
   {
    "duration": 9,
    "start_time": "2022-11-09T07:09:51.901Z"
   },
   {
    "duration": 6,
    "start_time": "2022-11-09T07:10:12.860Z"
   },
   {
    "duration": 9,
    "start_time": "2022-11-09T07:10:15.457Z"
   }
  ],
  "kernelspec": {
   "display_name": "da_practicum_env2",
   "language": "python",
   "name": "python3"
  },
  "language_info": {
   "codemirror_mode": {
    "name": "ipython",
    "version": 3
   },
   "file_extension": ".py",
   "mimetype": "text/x-python",
   "name": "python",
   "nbconvert_exporter": "python",
   "pygments_lexer": "ipython3",
   "version": "3.9.13"
  },
  "toc": {
   "base_numbering": 1,
   "nav_menu": {},
   "number_sections": true,
   "sideBar": true,
   "skip_h1_title": true,
   "title_cell": "Table of Contents",
   "title_sidebar": "Contents",
   "toc_cell": false,
   "toc_position": {},
   "toc_section_display": true,
   "toc_window_display": false
  },
  "vscode": {
   "interpreter": {
    "hash": "e3032394db83c2c494a476c5588f4da7a4c8a370c24750e5ed45e62c348e99d6"
   }
  }
 },
 "nbformat": 4,
 "nbformat_minor": 2
}
